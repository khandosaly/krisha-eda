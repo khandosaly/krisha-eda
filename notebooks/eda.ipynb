{
 "cells": [
  {
   "cell_type": "markdown",
   "source": [
    "## I. Intro"
   ],
   "metadata": {
    "collapsed": false,
    "pycharm": {
     "name": "#%% md\n"
    }
   }
  },
  {
   "cell_type": "markdown",
   "source": [
    "Данные собраны из сайта krisha.kz, с фильтром по городу Астана.\n",
    "built_type - тип строения\n",
    "year_built - год постройки\n",
    "flour - этаж\n",
    "area - площадь\n",
    "condition - состояние\n",
    "bathrooms - сан. узлы\n",
    "balcony - балконы\n",
    "exchange - возможность обменять\n",
    "furniture - мебель\n",
    "security - охрана, домофон и т.д\n",
    "ceil - высота потолков\n",
    "parking - паркинг\n",
    "residance - жилой комплекс\n",
    "phone - проводной телефон\n",
    "floor - тип пола\n",
    "door - тип двери\n",
    "balcony_glass - стеклянный балкон\n",
    "ex_dormetory - бывш. общежитие\n",
    "inernet - интернет\n",
    "id - уникальный номер\n",
    "userType - тип пользователя\n",
    "rooms - количество комнат\n",
    "lat - широта\n",
    "lon - долгота\n",
    "district - район\n",
    "street - улица\n",
    "house_num - номер квартиры\n",
    "price - цена\n"
   ],
   "metadata": {
    "collapsed": false,
    "pycharm": {
     "name": "#%% md\n"
    }
   }
  },
  {
   "cell_type": "markdown",
   "source": [
    "## II. Data Import"
   ],
   "metadata": {
    "collapsed": false,
    "pycharm": {
     "name": "#%% md\n"
    }
   }
  },
  {
   "cell_type": "code",
   "execution_count": 190,
   "outputs": [],
   "source": [
    "import pandas as pd\n",
    "import numpy as np\n",
    "import matplotlib.pyplot as plt\n",
    "from sklearn.linear_model import LinearRegression"
   ],
   "metadata": {
    "collapsed": false,
    "pycharm": {
     "name": "#%%\n"
    }
   }
  },
  {
   "cell_type": "code",
   "execution_count": 191,
   "metadata": {
    "pycharm": {
     "name": "#%%\n"
    }
   },
   "outputs": [
    {
     "data": {
      "text/plain": "   built_type  year_built    flour  area condition      bathrooms  \\\n0  монолитный        2016   4 из 9  99.0   хорошее  2 с/у и более   \n1   кирпичный        2012   4 из 6  45.8   хорошее    совмещенный   \n2   кирпичный        2021  2 из 10  90.0       NaN            NaN   \n3   кирпичный        2021   2 из 8  62.0   среднее            NaN   \n4         NaN        2005  7 из 12  36.2   хорошее    совмещенный   \n\n                         balcony       exchange furniture  \\\n0  несколько балконов или лоджий            NaN  частично   \n1                         балкон            NaN  частично   \n2                            NaN            NaN       NaN   \n3                            NaN  Не интересует       NaN   \n4                         балкон  Не интересует       NaN   \n\n                                 security  ... inernet         id    userType  \\\n0                домофон, видеонаблюдение  ...  оптика  674641098       owner   \n1                домофон, видеонаблюдение  ...  оптика  676011227       owner   \n2                 охрана, видеонаблюдение  ...     NaN  681148481  specialist   \n3                                     NaN  ...     NaN  681724680       owner   \n4  домофон, сигнализация, видеонаблюдение  ...     NaN  681619392       owner   \n\n  rooms        lat        lon       district                street house_num  \\\n0     3  51.134068  71.367502  Esilyskiy_r-n       Ilyyasa_Omarova       NaN   \n1     1  51.123006  71.503660     Almaty_r-n  Temirbeka_Zhurgenova        27   \n2     3  51.101005  71.401826  Esilyskiy_r-n              Uly_Dala       NaN   \n3     2  51.172030  71.394117   Saryarka_r-n               Zhambyl        10   \n4     1  51.153648  71.500749     Almaty_r-n             Musrepova         7   \n\n      price  \n0  40000000  \n1  19000000  \n2  53999999  \n3  31000000  \n4  17500000  \n\n[5 rows x 28 columns]",
      "text/html": "<div>\n<style scoped>\n    .dataframe tbody tr th:only-of-type {\n        vertical-align: middle;\n    }\n\n    .dataframe tbody tr th {\n        vertical-align: top;\n    }\n\n    .dataframe thead th {\n        text-align: right;\n    }\n</style>\n<table border=\"1\" class=\"dataframe\">\n  <thead>\n    <tr style=\"text-align: right;\">\n      <th></th>\n      <th>built_type</th>\n      <th>year_built</th>\n      <th>flour</th>\n      <th>area</th>\n      <th>condition</th>\n      <th>bathrooms</th>\n      <th>balcony</th>\n      <th>exchange</th>\n      <th>furniture</th>\n      <th>security</th>\n      <th>...</th>\n      <th>inernet</th>\n      <th>id</th>\n      <th>userType</th>\n      <th>rooms</th>\n      <th>lat</th>\n      <th>lon</th>\n      <th>district</th>\n      <th>street</th>\n      <th>house_num</th>\n      <th>price</th>\n    </tr>\n  </thead>\n  <tbody>\n    <tr>\n      <th>0</th>\n      <td>монолитный</td>\n      <td>2016</td>\n      <td>4 из 9</td>\n      <td>99.0</td>\n      <td>хорошее</td>\n      <td>2 с/у и более</td>\n      <td>несколько балконов или лоджий</td>\n      <td>NaN</td>\n      <td>частично</td>\n      <td>домофон, видеонаблюдение</td>\n      <td>...</td>\n      <td>оптика</td>\n      <td>674641098</td>\n      <td>owner</td>\n      <td>3</td>\n      <td>51.134068</td>\n      <td>71.367502</td>\n      <td>Esilyskiy_r-n</td>\n      <td>Ilyyasa_Omarova</td>\n      <td>NaN</td>\n      <td>40000000</td>\n    </tr>\n    <tr>\n      <th>1</th>\n      <td>кирпичный</td>\n      <td>2012</td>\n      <td>4 из 6</td>\n      <td>45.8</td>\n      <td>хорошее</td>\n      <td>совмещенный</td>\n      <td>балкон</td>\n      <td>NaN</td>\n      <td>частично</td>\n      <td>домофон, видеонаблюдение</td>\n      <td>...</td>\n      <td>оптика</td>\n      <td>676011227</td>\n      <td>owner</td>\n      <td>1</td>\n      <td>51.123006</td>\n      <td>71.503660</td>\n      <td>Almaty_r-n</td>\n      <td>Temirbeka_Zhurgenova</td>\n      <td>27</td>\n      <td>19000000</td>\n    </tr>\n    <tr>\n      <th>2</th>\n      <td>кирпичный</td>\n      <td>2021</td>\n      <td>2 из 10</td>\n      <td>90.0</td>\n      <td>NaN</td>\n      <td>NaN</td>\n      <td>NaN</td>\n      <td>NaN</td>\n      <td>NaN</td>\n      <td>охрана, видеонаблюдение</td>\n      <td>...</td>\n      <td>NaN</td>\n      <td>681148481</td>\n      <td>specialist</td>\n      <td>3</td>\n      <td>51.101005</td>\n      <td>71.401826</td>\n      <td>Esilyskiy_r-n</td>\n      <td>Uly_Dala</td>\n      <td>NaN</td>\n      <td>53999999</td>\n    </tr>\n    <tr>\n      <th>3</th>\n      <td>кирпичный</td>\n      <td>2021</td>\n      <td>2 из 8</td>\n      <td>62.0</td>\n      <td>среднее</td>\n      <td>NaN</td>\n      <td>NaN</td>\n      <td>Не интересует</td>\n      <td>NaN</td>\n      <td>NaN</td>\n      <td>...</td>\n      <td>NaN</td>\n      <td>681724680</td>\n      <td>owner</td>\n      <td>2</td>\n      <td>51.172030</td>\n      <td>71.394117</td>\n      <td>Saryarka_r-n</td>\n      <td>Zhambyl</td>\n      <td>10</td>\n      <td>31000000</td>\n    </tr>\n    <tr>\n      <th>4</th>\n      <td>NaN</td>\n      <td>2005</td>\n      <td>7 из 12</td>\n      <td>36.2</td>\n      <td>хорошее</td>\n      <td>совмещенный</td>\n      <td>балкон</td>\n      <td>Не интересует</td>\n      <td>NaN</td>\n      <td>домофон, сигнализация, видеонаблюдение</td>\n      <td>...</td>\n      <td>NaN</td>\n      <td>681619392</td>\n      <td>owner</td>\n      <td>1</td>\n      <td>51.153648</td>\n      <td>71.500749</td>\n      <td>Almaty_r-n</td>\n      <td>Musrepova</td>\n      <td>7</td>\n      <td>17500000</td>\n    </tr>\n  </tbody>\n</table>\n<p>5 rows × 28 columns</p>\n</div>"
     },
     "execution_count": 191,
     "metadata": {},
     "output_type": "execute_result"
    }
   ],
   "source": [
    "df = pd.read_csv('../data/krisha.csv')\n",
    "df.head()"
   ]
  },
  {
   "cell_type": "markdown",
   "source": [
    "## III. Data cleaning"
   ],
   "metadata": {
    "collapsed": false,
    "pycharm": {
     "name": "#%% md\n"
    }
   }
  },
  {
   "cell_type": "code",
   "execution_count": 192,
   "outputs": [],
   "source": [
    "from utils.preparation import *"
   ],
   "metadata": {
    "collapsed": false,
    "pycharm": {
     "name": "#%%\n"
    }
   }
  },
  {
   "cell_type": "markdown",
   "source": [
    "### Перевод строк в числовые значения"
   ],
   "metadata": {
    "collapsed": false,
    "pycharm": {
     "name": "#%% md\n"
    }
   }
  },
  {
   "cell_type": "code",
   "execution_count": 193,
   "outputs": [
    {
     "data": {
      "text/plain": "      built_type  year_built  flour   area condition      bathrooms  \\\n0     монолитный        2016      4   99.0   хорошее  2 с/у и более   \n1      кирпичный        2012      4   45.8   хорошее    совмещенный   \n2      кирпичный        2021      2   90.0       NaN            NaN   \n3      кирпичный        2021      2   62.0   среднее            NaN   \n4            NaN        2005      7   36.2   хорошее    совмещенный   \n...          ...         ...    ...    ...       ...            ...   \n5781   кирпичный        2021     12   40.0       NaN            NaN   \n5782         NaN        2014      8   39.0       NaN            NaN   \n5783  монолитный        2021     10  100.0   хорошее            NaN   \n5784         NaN        2017      8   60.0   хорошее     раздельный   \n5785         NaN        2015      3  125.0       NaN  2 с/у и более   \n\n                            balcony       exchange furniture  \\\n0     несколько балконов или лоджий            NaN  частично   \n1                            балкон            NaN  частично   \n2                               NaN            NaN       NaN   \n3                               NaN  Не интересует       NaN   \n4                            балкон  Не интересует       NaN   \n...                             ...            ...       ...   \n5781                            NaN  Не интересует       NaN   \n5782                            NaN  Не интересует       NaN   \n5783                            NaN  Не интересует       NaN   \n5784                         лоджия            NaN       NaN   \n5785                            NaN            NaN  частично   \n\n                                               security  ...         id  \\\n0                              домофон, видеонаблюдение  ...  674641098   \n1                              домофон, видеонаблюдение  ...  676011227   \n2                               охрана, видеонаблюдение  ...  681148481   \n3                                                   NaN  ...  681724680   \n4                домофон, сигнализация, видеонаблюдение  ...  681619392   \n...                                                 ...  ...        ...   \n5781                                                NaN  ...  679139665   \n5782                                                NaN  ...  681784419   \n5783                                                NaN  ...  680610156   \n5784                                                NaN  ...  681669989   \n5785  охрана, домофон, сигнализация, видеонаблюдение...  ...  667637251   \n\n        userType rooms        lat        lon       district  \\\n0          owner     3  51.134068  71.367502  Esilyskiy_r-n   \n1          owner     1  51.123006  71.503660     Almaty_r-n   \n2     specialist     3  51.101005  71.401826  Esilyskiy_r-n   \n3          owner     2  51.172030  71.394117   Saryarka_r-n   \n4          owner     1  51.153648  71.500749     Almaty_r-n   \n...          ...   ...        ...        ...            ...   \n5781  specialist     2  51.132520  71.378390  Esilyskiy_r-n   \n5782       owner     1  51.158612  71.502708     Almaty_r-n   \n5783  specialist     4  51.126986  71.395395  Esilyskiy_r-n   \n5784  specialist     2  51.125056  71.359905  Esilyskiy_r-n   \n5785  specialist     3  51.112563  71.417457  Esilyskiy_r-n   \n\n                    street house_num      price  max_flours  \n0          Ilyyasa_Omarova       NaN   40000000           9  \n1     Temirbeka_Zhurgenova        27   19000000           6  \n2                 Uly_Dala       NaN   53999999          10  \n3                  Zhambyl        10   31000000           8  \n4                Musrepova         7   17500000          12  \n...                    ...       ...        ...         ...  \n5781                 E-753         3   21299000          16  \n5782         Kudayberdiuly        23   18500000           9  \n5783               Tole_bi       NaN   62000000          12  \n5784       Zh_Moldagalieva         2   23000000           9  \n5785                Sauran        18  109000000           5  \n\n[5786 rows x 29 columns]",
      "text/html": "<div>\n<style scoped>\n    .dataframe tbody tr th:only-of-type {\n        vertical-align: middle;\n    }\n\n    .dataframe tbody tr th {\n        vertical-align: top;\n    }\n\n    .dataframe thead th {\n        text-align: right;\n    }\n</style>\n<table border=\"1\" class=\"dataframe\">\n  <thead>\n    <tr style=\"text-align: right;\">\n      <th></th>\n      <th>built_type</th>\n      <th>year_built</th>\n      <th>flour</th>\n      <th>area</th>\n      <th>condition</th>\n      <th>bathrooms</th>\n      <th>balcony</th>\n      <th>exchange</th>\n      <th>furniture</th>\n      <th>security</th>\n      <th>...</th>\n      <th>id</th>\n      <th>userType</th>\n      <th>rooms</th>\n      <th>lat</th>\n      <th>lon</th>\n      <th>district</th>\n      <th>street</th>\n      <th>house_num</th>\n      <th>price</th>\n      <th>max_flours</th>\n    </tr>\n  </thead>\n  <tbody>\n    <tr>\n      <th>0</th>\n      <td>монолитный</td>\n      <td>2016</td>\n      <td>4</td>\n      <td>99.0</td>\n      <td>хорошее</td>\n      <td>2 с/у и более</td>\n      <td>несколько балконов или лоджий</td>\n      <td>NaN</td>\n      <td>частично</td>\n      <td>домофон, видеонаблюдение</td>\n      <td>...</td>\n      <td>674641098</td>\n      <td>owner</td>\n      <td>3</td>\n      <td>51.134068</td>\n      <td>71.367502</td>\n      <td>Esilyskiy_r-n</td>\n      <td>Ilyyasa_Omarova</td>\n      <td>NaN</td>\n      <td>40000000</td>\n      <td>9</td>\n    </tr>\n    <tr>\n      <th>1</th>\n      <td>кирпичный</td>\n      <td>2012</td>\n      <td>4</td>\n      <td>45.8</td>\n      <td>хорошее</td>\n      <td>совмещенный</td>\n      <td>балкон</td>\n      <td>NaN</td>\n      <td>частично</td>\n      <td>домофон, видеонаблюдение</td>\n      <td>...</td>\n      <td>676011227</td>\n      <td>owner</td>\n      <td>1</td>\n      <td>51.123006</td>\n      <td>71.503660</td>\n      <td>Almaty_r-n</td>\n      <td>Temirbeka_Zhurgenova</td>\n      <td>27</td>\n      <td>19000000</td>\n      <td>6</td>\n    </tr>\n    <tr>\n      <th>2</th>\n      <td>кирпичный</td>\n      <td>2021</td>\n      <td>2</td>\n      <td>90.0</td>\n      <td>NaN</td>\n      <td>NaN</td>\n      <td>NaN</td>\n      <td>NaN</td>\n      <td>NaN</td>\n      <td>охрана, видеонаблюдение</td>\n      <td>...</td>\n      <td>681148481</td>\n      <td>specialist</td>\n      <td>3</td>\n      <td>51.101005</td>\n      <td>71.401826</td>\n      <td>Esilyskiy_r-n</td>\n      <td>Uly_Dala</td>\n      <td>NaN</td>\n      <td>53999999</td>\n      <td>10</td>\n    </tr>\n    <tr>\n      <th>3</th>\n      <td>кирпичный</td>\n      <td>2021</td>\n      <td>2</td>\n      <td>62.0</td>\n      <td>среднее</td>\n      <td>NaN</td>\n      <td>NaN</td>\n      <td>Не интересует</td>\n      <td>NaN</td>\n      <td>NaN</td>\n      <td>...</td>\n      <td>681724680</td>\n      <td>owner</td>\n      <td>2</td>\n      <td>51.172030</td>\n      <td>71.394117</td>\n      <td>Saryarka_r-n</td>\n      <td>Zhambyl</td>\n      <td>10</td>\n      <td>31000000</td>\n      <td>8</td>\n    </tr>\n    <tr>\n      <th>4</th>\n      <td>NaN</td>\n      <td>2005</td>\n      <td>7</td>\n      <td>36.2</td>\n      <td>хорошее</td>\n      <td>совмещенный</td>\n      <td>балкон</td>\n      <td>Не интересует</td>\n      <td>NaN</td>\n      <td>домофон, сигнализация, видеонаблюдение</td>\n      <td>...</td>\n      <td>681619392</td>\n      <td>owner</td>\n      <td>1</td>\n      <td>51.153648</td>\n      <td>71.500749</td>\n      <td>Almaty_r-n</td>\n      <td>Musrepova</td>\n      <td>7</td>\n      <td>17500000</td>\n      <td>12</td>\n    </tr>\n    <tr>\n      <th>...</th>\n      <td>...</td>\n      <td>...</td>\n      <td>...</td>\n      <td>...</td>\n      <td>...</td>\n      <td>...</td>\n      <td>...</td>\n      <td>...</td>\n      <td>...</td>\n      <td>...</td>\n      <td>...</td>\n      <td>...</td>\n      <td>...</td>\n      <td>...</td>\n      <td>...</td>\n      <td>...</td>\n      <td>...</td>\n      <td>...</td>\n      <td>...</td>\n      <td>...</td>\n      <td>...</td>\n    </tr>\n    <tr>\n      <th>5781</th>\n      <td>кирпичный</td>\n      <td>2021</td>\n      <td>12</td>\n      <td>40.0</td>\n      <td>NaN</td>\n      <td>NaN</td>\n      <td>NaN</td>\n      <td>Не интересует</td>\n      <td>NaN</td>\n      <td>NaN</td>\n      <td>...</td>\n      <td>679139665</td>\n      <td>specialist</td>\n      <td>2</td>\n      <td>51.132520</td>\n      <td>71.378390</td>\n      <td>Esilyskiy_r-n</td>\n      <td>E-753</td>\n      <td>3</td>\n      <td>21299000</td>\n      <td>16</td>\n    </tr>\n    <tr>\n      <th>5782</th>\n      <td>NaN</td>\n      <td>2014</td>\n      <td>8</td>\n      <td>39.0</td>\n      <td>NaN</td>\n      <td>NaN</td>\n      <td>NaN</td>\n      <td>Не интересует</td>\n      <td>NaN</td>\n      <td>NaN</td>\n      <td>...</td>\n      <td>681784419</td>\n      <td>owner</td>\n      <td>1</td>\n      <td>51.158612</td>\n      <td>71.502708</td>\n      <td>Almaty_r-n</td>\n      <td>Kudayberdiuly</td>\n      <td>23</td>\n      <td>18500000</td>\n      <td>9</td>\n    </tr>\n    <tr>\n      <th>5783</th>\n      <td>монолитный</td>\n      <td>2021</td>\n      <td>10</td>\n      <td>100.0</td>\n      <td>хорошее</td>\n      <td>NaN</td>\n      <td>NaN</td>\n      <td>Не интересует</td>\n      <td>NaN</td>\n      <td>NaN</td>\n      <td>...</td>\n      <td>680610156</td>\n      <td>specialist</td>\n      <td>4</td>\n      <td>51.126986</td>\n      <td>71.395395</td>\n      <td>Esilyskiy_r-n</td>\n      <td>Tole_bi</td>\n      <td>NaN</td>\n      <td>62000000</td>\n      <td>12</td>\n    </tr>\n    <tr>\n      <th>5784</th>\n      <td>NaN</td>\n      <td>2017</td>\n      <td>8</td>\n      <td>60.0</td>\n      <td>хорошее</td>\n      <td>раздельный</td>\n      <td>лоджия</td>\n      <td>NaN</td>\n      <td>NaN</td>\n      <td>NaN</td>\n      <td>...</td>\n      <td>681669989</td>\n      <td>specialist</td>\n      <td>2</td>\n      <td>51.125056</td>\n      <td>71.359905</td>\n      <td>Esilyskiy_r-n</td>\n      <td>Zh_Moldagalieva</td>\n      <td>2</td>\n      <td>23000000</td>\n      <td>9</td>\n    </tr>\n    <tr>\n      <th>5785</th>\n      <td>NaN</td>\n      <td>2015</td>\n      <td>3</td>\n      <td>125.0</td>\n      <td>NaN</td>\n      <td>2 с/у и более</td>\n      <td>NaN</td>\n      <td>NaN</td>\n      <td>частично</td>\n      <td>охрана, домофон, сигнализация, видеонаблюдение...</td>\n      <td>...</td>\n      <td>667637251</td>\n      <td>specialist</td>\n      <td>3</td>\n      <td>51.112563</td>\n      <td>71.417457</td>\n      <td>Esilyskiy_r-n</td>\n      <td>Sauran</td>\n      <td>18</td>\n      <td>109000000</td>\n      <td>5</td>\n    </tr>\n  </tbody>\n</table>\n<p>5786 rows × 29 columns</p>\n</div>"
     },
     "execution_count": 193,
     "metadata": {},
     "output_type": "execute_result"
    }
   ],
   "source": [
    "df['max_flours'] = df['flour'].apply(get_max_floor).astype('Int64')\n",
    "df['flour'] = df['flour'].apply(get_current_floor).astype('Int64')\n",
    "df['ceil'] = df['ceil'].str.replace(' м', '').astype('Float64')\n",
    "df"
   ],
   "metadata": {
    "collapsed": false,
    "pycharm": {
     "name": "#%%\n"
    }
   }
  },
  {
   "cell_type": "markdown",
   "source": [
    "### Перевод строк в булеан"
   ],
   "metadata": {
    "collapsed": false,
    "pycharm": {
     "name": "#%% md\n"
    }
   }
  },
  {
   "cell_type": "code",
   "execution_count": 194,
   "outputs": [
    {
     "data": {
      "text/plain": "      built_type  year_built  flour   area condition      bathrooms  \\\n0     монолитный        2016      4   99.0   хорошее  2 с/у и более   \n1      кирпичный        2012      4   45.8   хорошее    совмещенный   \n2      кирпичный        2021      2   90.0       NaN            NaN   \n3      кирпичный        2021      2   62.0   среднее            NaN   \n4            NaN        2005      7   36.2   хорошее    совмещенный   \n...          ...         ...    ...    ...       ...            ...   \n5781   кирпичный        2021     12   40.0       NaN            NaN   \n5782         NaN        2014      8   39.0       NaN            NaN   \n5783  монолитный        2021     10  100.0   хорошее            NaN   \n5784         NaN        2017      8   60.0   хорошее     раздельный   \n5785         NaN        2015      3  125.0       NaN  2 с/у и более   \n\n                            balcony       exchange furniture  \\\n0     несколько балконов или лоджий            NaN  частично   \n1                            балкон            NaN  частично   \n2                               NaN            NaN       NaN   \n3                               NaN  Не интересует       NaN   \n4                            балкон  Не интересует       NaN   \n...                             ...            ...       ...   \n5781                            NaN  Не интересует       NaN   \n5782                            NaN  Не интересует       NaN   \n5783                            NaN  Не интересует       NaN   \n5784                         лоджия            NaN       NaN   \n5785                            NaN            NaN  частично   \n\n                                               security  ...         id  \\\n0                              домофон, видеонаблюдение  ...  674641098   \n1                              домофон, видеонаблюдение  ...  676011227   \n2                               охрана, видеонаблюдение  ...  681148481   \n3                                                   NaN  ...  681724680   \n4                домофон, сигнализация, видеонаблюдение  ...  681619392   \n...                                                 ...  ...        ...   \n5781                                                NaN  ...  679139665   \n5782                                                NaN  ...  681784419   \n5783                                                NaN  ...  680610156   \n5784                                                NaN  ...  681669989   \n5785  охрана, домофон, сигнализация, видеонаблюдение...  ...  667637251   \n\n        userType rooms        lat        lon       district  \\\n0          owner     3  51.134068  71.367502  Esilyskiy_r-n   \n1          owner     1  51.123006  71.503660     Almaty_r-n   \n2     specialist     3  51.101005  71.401826  Esilyskiy_r-n   \n3          owner     2  51.172030  71.394117   Saryarka_r-n   \n4          owner     1  51.153648  71.500749     Almaty_r-n   \n...          ...   ...        ...        ...            ...   \n5781  specialist     2  51.132520  71.378390  Esilyskiy_r-n   \n5782       owner     1  51.158612  71.502708     Almaty_r-n   \n5783  specialist     4  51.126986  71.395395  Esilyskiy_r-n   \n5784  specialist     2  51.125056  71.359905  Esilyskiy_r-n   \n5785  specialist     3  51.112563  71.417457  Esilyskiy_r-n   \n\n                    street  house_num      price  max_flours  \n0          Ilyyasa_Omarova        NaN   40000000           9  \n1     Temirbeka_Zhurgenova         27   19000000           6  \n2                 Uly_Dala        NaN   53999999          10  \n3                  Zhambyl         10   31000000           8  \n4                Musrepova          7   17500000          12  \n...                    ...        ...        ...         ...  \n5781                 E-753          3   21299000          16  \n5782         Kudayberdiuly         23   18500000           9  \n5783               Tole_bi        NaN   62000000          12  \n5784       Zh_Moldagalieva          2   23000000           9  \n5785                Sauran         18  109000000           5  \n\n[5786 rows x 29 columns]",
      "text/html": "<div>\n<style scoped>\n    .dataframe tbody tr th:only-of-type {\n        vertical-align: middle;\n    }\n\n    .dataframe tbody tr th {\n        vertical-align: top;\n    }\n\n    .dataframe thead th {\n        text-align: right;\n    }\n</style>\n<table border=\"1\" class=\"dataframe\">\n  <thead>\n    <tr style=\"text-align: right;\">\n      <th></th>\n      <th>built_type</th>\n      <th>year_built</th>\n      <th>flour</th>\n      <th>area</th>\n      <th>condition</th>\n      <th>bathrooms</th>\n      <th>balcony</th>\n      <th>exchange</th>\n      <th>furniture</th>\n      <th>security</th>\n      <th>...</th>\n      <th>id</th>\n      <th>userType</th>\n      <th>rooms</th>\n      <th>lat</th>\n      <th>lon</th>\n      <th>district</th>\n      <th>street</th>\n      <th>house_num</th>\n      <th>price</th>\n      <th>max_flours</th>\n    </tr>\n  </thead>\n  <tbody>\n    <tr>\n      <th>0</th>\n      <td>монолитный</td>\n      <td>2016</td>\n      <td>4</td>\n      <td>99.0</td>\n      <td>хорошее</td>\n      <td>2 с/у и более</td>\n      <td>несколько балконов или лоджий</td>\n      <td>NaN</td>\n      <td>частично</td>\n      <td>домофон, видеонаблюдение</td>\n      <td>...</td>\n      <td>674641098</td>\n      <td>owner</td>\n      <td>3</td>\n      <td>51.134068</td>\n      <td>71.367502</td>\n      <td>Esilyskiy_r-n</td>\n      <td>Ilyyasa_Omarova</td>\n      <td>NaN</td>\n      <td>40000000</td>\n      <td>9</td>\n    </tr>\n    <tr>\n      <th>1</th>\n      <td>кирпичный</td>\n      <td>2012</td>\n      <td>4</td>\n      <td>45.8</td>\n      <td>хорошее</td>\n      <td>совмещенный</td>\n      <td>балкон</td>\n      <td>NaN</td>\n      <td>частично</td>\n      <td>домофон, видеонаблюдение</td>\n      <td>...</td>\n      <td>676011227</td>\n      <td>owner</td>\n      <td>1</td>\n      <td>51.123006</td>\n      <td>71.503660</td>\n      <td>Almaty_r-n</td>\n      <td>Temirbeka_Zhurgenova</td>\n      <td>27</td>\n      <td>19000000</td>\n      <td>6</td>\n    </tr>\n    <tr>\n      <th>2</th>\n      <td>кирпичный</td>\n      <td>2021</td>\n      <td>2</td>\n      <td>90.0</td>\n      <td>NaN</td>\n      <td>NaN</td>\n      <td>NaN</td>\n      <td>NaN</td>\n      <td>NaN</td>\n      <td>охрана, видеонаблюдение</td>\n      <td>...</td>\n      <td>681148481</td>\n      <td>specialist</td>\n      <td>3</td>\n      <td>51.101005</td>\n      <td>71.401826</td>\n      <td>Esilyskiy_r-n</td>\n      <td>Uly_Dala</td>\n      <td>NaN</td>\n      <td>53999999</td>\n      <td>10</td>\n    </tr>\n    <tr>\n      <th>3</th>\n      <td>кирпичный</td>\n      <td>2021</td>\n      <td>2</td>\n      <td>62.0</td>\n      <td>среднее</td>\n      <td>NaN</td>\n      <td>NaN</td>\n      <td>Не интересует</td>\n      <td>NaN</td>\n      <td>NaN</td>\n      <td>...</td>\n      <td>681724680</td>\n      <td>owner</td>\n      <td>2</td>\n      <td>51.172030</td>\n      <td>71.394117</td>\n      <td>Saryarka_r-n</td>\n      <td>Zhambyl</td>\n      <td>10</td>\n      <td>31000000</td>\n      <td>8</td>\n    </tr>\n    <tr>\n      <th>4</th>\n      <td>NaN</td>\n      <td>2005</td>\n      <td>7</td>\n      <td>36.2</td>\n      <td>хорошее</td>\n      <td>совмещенный</td>\n      <td>балкон</td>\n      <td>Не интересует</td>\n      <td>NaN</td>\n      <td>домофон, сигнализация, видеонаблюдение</td>\n      <td>...</td>\n      <td>681619392</td>\n      <td>owner</td>\n      <td>1</td>\n      <td>51.153648</td>\n      <td>71.500749</td>\n      <td>Almaty_r-n</td>\n      <td>Musrepova</td>\n      <td>7</td>\n      <td>17500000</td>\n      <td>12</td>\n    </tr>\n    <tr>\n      <th>...</th>\n      <td>...</td>\n      <td>...</td>\n      <td>...</td>\n      <td>...</td>\n      <td>...</td>\n      <td>...</td>\n      <td>...</td>\n      <td>...</td>\n      <td>...</td>\n      <td>...</td>\n      <td>...</td>\n      <td>...</td>\n      <td>...</td>\n      <td>...</td>\n      <td>...</td>\n      <td>...</td>\n      <td>...</td>\n      <td>...</td>\n      <td>...</td>\n      <td>...</td>\n      <td>...</td>\n    </tr>\n    <tr>\n      <th>5781</th>\n      <td>кирпичный</td>\n      <td>2021</td>\n      <td>12</td>\n      <td>40.0</td>\n      <td>NaN</td>\n      <td>NaN</td>\n      <td>NaN</td>\n      <td>Не интересует</td>\n      <td>NaN</td>\n      <td>NaN</td>\n      <td>...</td>\n      <td>679139665</td>\n      <td>specialist</td>\n      <td>2</td>\n      <td>51.132520</td>\n      <td>71.378390</td>\n      <td>Esilyskiy_r-n</td>\n      <td>E-753</td>\n      <td>3</td>\n      <td>21299000</td>\n      <td>16</td>\n    </tr>\n    <tr>\n      <th>5782</th>\n      <td>NaN</td>\n      <td>2014</td>\n      <td>8</td>\n      <td>39.0</td>\n      <td>NaN</td>\n      <td>NaN</td>\n      <td>NaN</td>\n      <td>Не интересует</td>\n      <td>NaN</td>\n      <td>NaN</td>\n      <td>...</td>\n      <td>681784419</td>\n      <td>owner</td>\n      <td>1</td>\n      <td>51.158612</td>\n      <td>71.502708</td>\n      <td>Almaty_r-n</td>\n      <td>Kudayberdiuly</td>\n      <td>23</td>\n      <td>18500000</td>\n      <td>9</td>\n    </tr>\n    <tr>\n      <th>5783</th>\n      <td>монолитный</td>\n      <td>2021</td>\n      <td>10</td>\n      <td>100.0</td>\n      <td>хорошее</td>\n      <td>NaN</td>\n      <td>NaN</td>\n      <td>Не интересует</td>\n      <td>NaN</td>\n      <td>NaN</td>\n      <td>...</td>\n      <td>680610156</td>\n      <td>specialist</td>\n      <td>4</td>\n      <td>51.126986</td>\n      <td>71.395395</td>\n      <td>Esilyskiy_r-n</td>\n      <td>Tole_bi</td>\n      <td>NaN</td>\n      <td>62000000</td>\n      <td>12</td>\n    </tr>\n    <tr>\n      <th>5784</th>\n      <td>NaN</td>\n      <td>2017</td>\n      <td>8</td>\n      <td>60.0</td>\n      <td>хорошее</td>\n      <td>раздельный</td>\n      <td>лоджия</td>\n      <td>NaN</td>\n      <td>NaN</td>\n      <td>NaN</td>\n      <td>...</td>\n      <td>681669989</td>\n      <td>specialist</td>\n      <td>2</td>\n      <td>51.125056</td>\n      <td>71.359905</td>\n      <td>Esilyskiy_r-n</td>\n      <td>Zh_Moldagalieva</td>\n      <td>2</td>\n      <td>23000000</td>\n      <td>9</td>\n    </tr>\n    <tr>\n      <th>5785</th>\n      <td>NaN</td>\n      <td>2015</td>\n      <td>3</td>\n      <td>125.0</td>\n      <td>NaN</td>\n      <td>2 с/у и более</td>\n      <td>NaN</td>\n      <td>NaN</td>\n      <td>частично</td>\n      <td>охрана, домофон, сигнализация, видеонаблюдение...</td>\n      <td>...</td>\n      <td>667637251</td>\n      <td>specialist</td>\n      <td>3</td>\n      <td>51.112563</td>\n      <td>71.417457</td>\n      <td>Esilyskiy_r-n</td>\n      <td>Sauran</td>\n      <td>18</td>\n      <td>109000000</td>\n      <td>5</td>\n    </tr>\n  </tbody>\n</table>\n<p>5786 rows × 29 columns</p>\n</div>"
     },
     "execution_count": 194,
     "metadata": {},
     "output_type": "execute_result"
    }
   ],
   "source": [
    "df['balcony_glass'] = df['balcony_glass'].str.contains('да').astype('bool')\n",
    "df['ex_dormetory'] = df['ex_dormetory'].str.contains('да').astype('bool')\n",
    "df"
   ],
   "metadata": {
    "collapsed": false,
    "pycharm": {
     "name": "#%%\n"
    }
   }
  },
  {
   "cell_type": "markdown",
   "source": [
    "### One Hot Encoding типов охраны"
   ],
   "metadata": {
    "collapsed": false,
    "pycharm": {
     "name": "#%% md\n"
    }
   }
  },
  {
   "cell_type": "code",
   "execution_count": 195,
   "outputs": [
    {
     "data": {
      "text/plain": "['домофон',\n 'видеонаблюдение',\n 'охрана',\n 'сигнализация',\n 'кодовый замок',\n 'видеодомофон',\n 'консьерж',\n 'решетки на окнах']"
     },
     "execution_count": 195,
     "metadata": {},
     "output_type": "execute_result"
    }
   ],
   "source": [
    "get_security_types(df.security)"
   ],
   "metadata": {
    "collapsed": false,
    "pycharm": {
     "name": "#%%\n"
    }
   }
  },
  {
   "cell_type": "code",
   "execution_count": 196,
   "outputs": [],
   "source": [
    "security_names = {\n",
    "    'has_intercom': 'домофон',\n",
    "    'has_video_control': 'видеонаблюдение',\n",
    "    'has_guard': 'охрана',\n",
    "    'has_alarm': 'сигнализация',\n",
    "    'has_video_intercom': 'видеодомофон',\n",
    "    'has_concierge': 'консьерж',\n",
    "    'has_bars': 'решетки на окнах',\n",
    "}"
   ],
   "metadata": {
    "collapsed": false,
    "pycharm": {
     "name": "#%%\n"
    }
   }
  },
  {
   "cell_type": "code",
   "execution_count": 197,
   "outputs": [
    {
     "data": {
      "text/plain": "      built_type  year_built  flour   area condition      bathrooms  \\\n0     монолитный        2016      4   99.0   хорошее  2 с/у и более   \n1      кирпичный        2012      4   45.8   хорошее    совмещенный   \n2      кирпичный        2021      2   90.0       NaN            NaN   \n3      кирпичный        2021      2   62.0   среднее            NaN   \n4            NaN        2005      7   36.2   хорошее    совмещенный   \n...          ...         ...    ...    ...       ...            ...   \n5781   кирпичный        2021     12   40.0       NaN            NaN   \n5782         NaN        2014      8   39.0       NaN            NaN   \n5783  монолитный        2021     10  100.0   хорошее            NaN   \n5784         NaN        2017      8   60.0   хорошее     раздельный   \n5785         NaN        2015      3  125.0       NaN  2 с/у и более   \n\n                            balcony       exchange furniture  ceil  ...  \\\n0     несколько балконов или лоджий            NaN  частично   2.7  ...   \n1                            балкон            NaN  частично   2.5  ...   \n2                               NaN            NaN       NaN   3.0  ...   \n3                               NaN  Не интересует       NaN   2.7  ...   \n4                            балкон  Не интересует       NaN  <NA>  ...   \n...                             ...            ...       ...   ...  ...   \n5781                            NaN  Не интересует       NaN   3.0  ...   \n5782                            NaN  Не интересует       NaN  <NA>  ...   \n5783                            NaN  Не интересует       NaN   3.0  ...   \n5784                         лоджия            NaN       NaN   2.7  ...   \n5785                            NaN            NaN  частично   3.0  ...   \n\n     house_num      price max_flours has_intercom has_video_control  \\\n0          NaN   40000000          9         True              True   \n1           27   19000000          6         True              True   \n2          NaN   53999999         10        False              True   \n3           10   31000000          8         True              True   \n4            7   17500000         12         True              True   \n...        ...        ...        ...          ...               ...   \n5781         3   21299000         16         True              True   \n5782        23   18500000          9         True              True   \n5783       NaN   62000000         12         True              True   \n5784         2   23000000          9         True              True   \n5785        18  109000000          5         True              True   \n\n      has_guard  has_alarm has_video_intercom  has_concierge has_bars  \n0         False      False              False          False    False  \n1         False      False              False          False    False  \n2          True      False              False          False    False  \n3          True       True               True           True     True  \n4         False       True              False          False    False  \n...         ...        ...                ...            ...      ...  \n5781       True       True               True           True     True  \n5782       True       True               True           True     True  \n5783       True       True               True           True     True  \n5784       True       True               True           True     True  \n5785       True       True               True           True    False  \n\n[5786 rows x 35 columns]",
      "text/html": "<div>\n<style scoped>\n    .dataframe tbody tr th:only-of-type {\n        vertical-align: middle;\n    }\n\n    .dataframe tbody tr th {\n        vertical-align: top;\n    }\n\n    .dataframe thead th {\n        text-align: right;\n    }\n</style>\n<table border=\"1\" class=\"dataframe\">\n  <thead>\n    <tr style=\"text-align: right;\">\n      <th></th>\n      <th>built_type</th>\n      <th>year_built</th>\n      <th>flour</th>\n      <th>area</th>\n      <th>condition</th>\n      <th>bathrooms</th>\n      <th>balcony</th>\n      <th>exchange</th>\n      <th>furniture</th>\n      <th>ceil</th>\n      <th>...</th>\n      <th>house_num</th>\n      <th>price</th>\n      <th>max_flours</th>\n      <th>has_intercom</th>\n      <th>has_video_control</th>\n      <th>has_guard</th>\n      <th>has_alarm</th>\n      <th>has_video_intercom</th>\n      <th>has_concierge</th>\n      <th>has_bars</th>\n    </tr>\n  </thead>\n  <tbody>\n    <tr>\n      <th>0</th>\n      <td>монолитный</td>\n      <td>2016</td>\n      <td>4</td>\n      <td>99.0</td>\n      <td>хорошее</td>\n      <td>2 с/у и более</td>\n      <td>несколько балконов или лоджий</td>\n      <td>NaN</td>\n      <td>частично</td>\n      <td>2.7</td>\n      <td>...</td>\n      <td>NaN</td>\n      <td>40000000</td>\n      <td>9</td>\n      <td>True</td>\n      <td>True</td>\n      <td>False</td>\n      <td>False</td>\n      <td>False</td>\n      <td>False</td>\n      <td>False</td>\n    </tr>\n    <tr>\n      <th>1</th>\n      <td>кирпичный</td>\n      <td>2012</td>\n      <td>4</td>\n      <td>45.8</td>\n      <td>хорошее</td>\n      <td>совмещенный</td>\n      <td>балкон</td>\n      <td>NaN</td>\n      <td>частично</td>\n      <td>2.5</td>\n      <td>...</td>\n      <td>27</td>\n      <td>19000000</td>\n      <td>6</td>\n      <td>True</td>\n      <td>True</td>\n      <td>False</td>\n      <td>False</td>\n      <td>False</td>\n      <td>False</td>\n      <td>False</td>\n    </tr>\n    <tr>\n      <th>2</th>\n      <td>кирпичный</td>\n      <td>2021</td>\n      <td>2</td>\n      <td>90.0</td>\n      <td>NaN</td>\n      <td>NaN</td>\n      <td>NaN</td>\n      <td>NaN</td>\n      <td>NaN</td>\n      <td>3.0</td>\n      <td>...</td>\n      <td>NaN</td>\n      <td>53999999</td>\n      <td>10</td>\n      <td>False</td>\n      <td>True</td>\n      <td>True</td>\n      <td>False</td>\n      <td>False</td>\n      <td>False</td>\n      <td>False</td>\n    </tr>\n    <tr>\n      <th>3</th>\n      <td>кирпичный</td>\n      <td>2021</td>\n      <td>2</td>\n      <td>62.0</td>\n      <td>среднее</td>\n      <td>NaN</td>\n      <td>NaN</td>\n      <td>Не интересует</td>\n      <td>NaN</td>\n      <td>2.7</td>\n      <td>...</td>\n      <td>10</td>\n      <td>31000000</td>\n      <td>8</td>\n      <td>True</td>\n      <td>True</td>\n      <td>True</td>\n      <td>True</td>\n      <td>True</td>\n      <td>True</td>\n      <td>True</td>\n    </tr>\n    <tr>\n      <th>4</th>\n      <td>NaN</td>\n      <td>2005</td>\n      <td>7</td>\n      <td>36.2</td>\n      <td>хорошее</td>\n      <td>совмещенный</td>\n      <td>балкон</td>\n      <td>Не интересует</td>\n      <td>NaN</td>\n      <td>&lt;NA&gt;</td>\n      <td>...</td>\n      <td>7</td>\n      <td>17500000</td>\n      <td>12</td>\n      <td>True</td>\n      <td>True</td>\n      <td>False</td>\n      <td>True</td>\n      <td>False</td>\n      <td>False</td>\n      <td>False</td>\n    </tr>\n    <tr>\n      <th>...</th>\n      <td>...</td>\n      <td>...</td>\n      <td>...</td>\n      <td>...</td>\n      <td>...</td>\n      <td>...</td>\n      <td>...</td>\n      <td>...</td>\n      <td>...</td>\n      <td>...</td>\n      <td>...</td>\n      <td>...</td>\n      <td>...</td>\n      <td>...</td>\n      <td>...</td>\n      <td>...</td>\n      <td>...</td>\n      <td>...</td>\n      <td>...</td>\n      <td>...</td>\n      <td>...</td>\n    </tr>\n    <tr>\n      <th>5781</th>\n      <td>кирпичный</td>\n      <td>2021</td>\n      <td>12</td>\n      <td>40.0</td>\n      <td>NaN</td>\n      <td>NaN</td>\n      <td>NaN</td>\n      <td>Не интересует</td>\n      <td>NaN</td>\n      <td>3.0</td>\n      <td>...</td>\n      <td>3</td>\n      <td>21299000</td>\n      <td>16</td>\n      <td>True</td>\n      <td>True</td>\n      <td>True</td>\n      <td>True</td>\n      <td>True</td>\n      <td>True</td>\n      <td>True</td>\n    </tr>\n    <tr>\n      <th>5782</th>\n      <td>NaN</td>\n      <td>2014</td>\n      <td>8</td>\n      <td>39.0</td>\n      <td>NaN</td>\n      <td>NaN</td>\n      <td>NaN</td>\n      <td>Не интересует</td>\n      <td>NaN</td>\n      <td>&lt;NA&gt;</td>\n      <td>...</td>\n      <td>23</td>\n      <td>18500000</td>\n      <td>9</td>\n      <td>True</td>\n      <td>True</td>\n      <td>True</td>\n      <td>True</td>\n      <td>True</td>\n      <td>True</td>\n      <td>True</td>\n    </tr>\n    <tr>\n      <th>5783</th>\n      <td>монолитный</td>\n      <td>2021</td>\n      <td>10</td>\n      <td>100.0</td>\n      <td>хорошее</td>\n      <td>NaN</td>\n      <td>NaN</td>\n      <td>Не интересует</td>\n      <td>NaN</td>\n      <td>3.0</td>\n      <td>...</td>\n      <td>NaN</td>\n      <td>62000000</td>\n      <td>12</td>\n      <td>True</td>\n      <td>True</td>\n      <td>True</td>\n      <td>True</td>\n      <td>True</td>\n      <td>True</td>\n      <td>True</td>\n    </tr>\n    <tr>\n      <th>5784</th>\n      <td>NaN</td>\n      <td>2017</td>\n      <td>8</td>\n      <td>60.0</td>\n      <td>хорошее</td>\n      <td>раздельный</td>\n      <td>лоджия</td>\n      <td>NaN</td>\n      <td>NaN</td>\n      <td>2.7</td>\n      <td>...</td>\n      <td>2</td>\n      <td>23000000</td>\n      <td>9</td>\n      <td>True</td>\n      <td>True</td>\n      <td>True</td>\n      <td>True</td>\n      <td>True</td>\n      <td>True</td>\n      <td>True</td>\n    </tr>\n    <tr>\n      <th>5785</th>\n      <td>NaN</td>\n      <td>2015</td>\n      <td>3</td>\n      <td>125.0</td>\n      <td>NaN</td>\n      <td>2 с/у и более</td>\n      <td>NaN</td>\n      <td>NaN</td>\n      <td>частично</td>\n      <td>3.0</td>\n      <td>...</td>\n      <td>18</td>\n      <td>109000000</td>\n      <td>5</td>\n      <td>True</td>\n      <td>True</td>\n      <td>True</td>\n      <td>True</td>\n      <td>True</td>\n      <td>True</td>\n      <td>False</td>\n    </tr>\n  </tbody>\n</table>\n<p>5786 rows × 35 columns</p>\n</div>"
     },
     "execution_count": 197,
     "metadata": {},
     "output_type": "execute_result"
    }
   ],
   "source": [
    "for field_name, token in security_names.items():\n",
    "    df[field_name] = df['security'].str.contains(token).astype('bool')\n",
    "df = df.drop('security', axis=1)\n",
    "df"
   ],
   "metadata": {
    "collapsed": false,
    "pycharm": {
     "name": "#%%\n"
    }
   }
  },
  {
   "cell_type": "markdown",
   "source": [
    "### Убрать лишние колонки"
   ],
   "metadata": {
    "collapsed": false,
    "pycharm": {
     "name": "#%% md\n"
    }
   }
  },
  {
   "cell_type": "code",
   "execution_count": 198,
   "outputs": [],
   "source": [
    "df = df.drop('id', axis=1)\n",
    "df = df.drop('lat', axis=1)\n",
    "df = df.drop('lon', axis=1)"
   ],
   "metadata": {
    "collapsed": false,
    "pycharm": {
     "name": "#%%\n"
    }
   }
  },
  {
   "cell_type": "markdown",
   "source": [
    "## IV. Data describe"
   ],
   "metadata": {
    "collapsed": false,
    "pycharm": {
     "name": "#%% md\n"
    }
   }
  },
  {
   "cell_type": "markdown",
   "source": [
    "### Описание числовых значений"
   ],
   "metadata": {
    "collapsed": false,
    "pycharm": {
     "name": "#%% md\n"
    }
   }
  },
  {
   "cell_type": "code",
   "execution_count": 199,
   "outputs": [
    {
     "data": {
      "text/plain": "        year_built     flour         area      ceil        rooms  \\\ncount  5786.000000    5637.0  5786.000000    5015.0  5786.000000   \nmean   2013.235050  6.631009    69.837857   2.86008     2.131697   \nstd      11.834353  4.538036    45.288339  0.726752     1.059643   \nmin    1918.000000       1.0    11.000000       2.0     1.000000   \n25%    2010.000000       3.0    42.000000       2.7     1.000000   \n50%    2017.000000       6.0    59.000000       2.8     2.000000   \n75%    2021.000000       9.0    82.000000       3.0     3.000000   \nmax    2022.000000      65.0   800.000000      28.0    11.000000   \n\n              price  max_flours  \ncount  5.786000e+03      5525.0  \nmean   3.779132e+07   11.167964  \nstd    4.132900e+07    5.434391  \nmin    4.000000e+06         2.0  \n25%    2.000000e+07         9.0  \n50%    2.700000e+07        10.0  \n75%    4.000000e+07        13.0  \nmax    7.300000e+08       113.0  ",
      "text/html": "<div>\n<style scoped>\n    .dataframe tbody tr th:only-of-type {\n        vertical-align: middle;\n    }\n\n    .dataframe tbody tr th {\n        vertical-align: top;\n    }\n\n    .dataframe thead th {\n        text-align: right;\n    }\n</style>\n<table border=\"1\" class=\"dataframe\">\n  <thead>\n    <tr style=\"text-align: right;\">\n      <th></th>\n      <th>year_built</th>\n      <th>flour</th>\n      <th>area</th>\n      <th>ceil</th>\n      <th>rooms</th>\n      <th>price</th>\n      <th>max_flours</th>\n    </tr>\n  </thead>\n  <tbody>\n    <tr>\n      <th>count</th>\n      <td>5786.000000</td>\n      <td>5637.0</td>\n      <td>5786.000000</td>\n      <td>5015.0</td>\n      <td>5786.000000</td>\n      <td>5.786000e+03</td>\n      <td>5525.0</td>\n    </tr>\n    <tr>\n      <th>mean</th>\n      <td>2013.235050</td>\n      <td>6.631009</td>\n      <td>69.837857</td>\n      <td>2.86008</td>\n      <td>2.131697</td>\n      <td>3.779132e+07</td>\n      <td>11.167964</td>\n    </tr>\n    <tr>\n      <th>std</th>\n      <td>11.834353</td>\n      <td>4.538036</td>\n      <td>45.288339</td>\n      <td>0.726752</td>\n      <td>1.059643</td>\n      <td>4.132900e+07</td>\n      <td>5.434391</td>\n    </tr>\n    <tr>\n      <th>min</th>\n      <td>1918.000000</td>\n      <td>1.0</td>\n      <td>11.000000</td>\n      <td>2.0</td>\n      <td>1.000000</td>\n      <td>4.000000e+06</td>\n      <td>2.0</td>\n    </tr>\n    <tr>\n      <th>25%</th>\n      <td>2010.000000</td>\n      <td>3.0</td>\n      <td>42.000000</td>\n      <td>2.7</td>\n      <td>1.000000</td>\n      <td>2.000000e+07</td>\n      <td>9.0</td>\n    </tr>\n    <tr>\n      <th>50%</th>\n      <td>2017.000000</td>\n      <td>6.0</td>\n      <td>59.000000</td>\n      <td>2.8</td>\n      <td>2.000000</td>\n      <td>2.700000e+07</td>\n      <td>10.0</td>\n    </tr>\n    <tr>\n      <th>75%</th>\n      <td>2021.000000</td>\n      <td>9.0</td>\n      <td>82.000000</td>\n      <td>3.0</td>\n      <td>3.000000</td>\n      <td>4.000000e+07</td>\n      <td>13.0</td>\n    </tr>\n    <tr>\n      <th>max</th>\n      <td>2022.000000</td>\n      <td>65.0</td>\n      <td>800.000000</td>\n      <td>28.0</td>\n      <td>11.000000</td>\n      <td>7.300000e+08</td>\n      <td>113.0</td>\n    </tr>\n  </tbody>\n</table>\n</div>"
     },
     "execution_count": 199,
     "metadata": {},
     "output_type": "execute_result"
    }
   ],
   "source": [
    "df.describe()"
   ],
   "metadata": {
    "collapsed": false,
    "pycharm": {
     "name": "#%%\n"
    }
   }
  },
  {
   "cell_type": "markdown",
   "source": [
    "## V. Data preparation"
   ],
   "metadata": {
    "collapsed": false,
    "pycharm": {
     "name": "#%% md\n"
    }
   }
  },
  {
   "cell_type": "markdown",
   "source": [
    "### Цена за кв.м"
   ],
   "metadata": {
    "collapsed": false,
    "pycharm": {
     "name": "#%% md\n"
    }
   }
  },
  {
   "cell_type": "code",
   "execution_count": 200,
   "outputs": [
    {
     "data": {
      "text/plain": "      built_type  year_built  flour   area condition      bathrooms  \\\n0     монолитный        2016      4   99.0   хорошее  2 с/у и более   \n1      кирпичный        2012      4   45.8   хорошее    совмещенный   \n2      кирпичный        2021      2   90.0       NaN            NaN   \n3      кирпичный        2021      2   62.0   среднее            NaN   \n4            NaN        2005      7   36.2   хорошее    совмещенный   \n...          ...         ...    ...    ...       ...            ...   \n5781   кирпичный        2021     12   40.0       NaN            NaN   \n5782         NaN        2014      8   39.0       NaN            NaN   \n5783  монолитный        2021     10  100.0   хорошее            NaN   \n5784         NaN        2017      8   60.0   хорошее     раздельный   \n5785         NaN        2015      3  125.0       NaN  2 с/у и более   \n\n                            balcony       exchange furniture  ceil  ...  \\\n0     несколько балконов или лоджий            NaN  частично   2.7  ...   \n1                            балкон            NaN  частично   2.5  ...   \n2                               NaN            NaN       NaN   3.0  ...   \n3                               NaN  Не интересует       NaN   2.7  ...   \n4                            балкон  Не интересует       NaN  <NA>  ...   \n...                             ...            ...       ...   ...  ...   \n5781                            NaN  Не интересует       NaN   3.0  ...   \n5782                            NaN  Не интересует       NaN  <NA>  ...   \n5783                            NaN  Не интересует       NaN   3.0  ...   \n5784                         лоджия            NaN       NaN   2.7  ...   \n5785                            NaN            NaN  частично   3.0  ...   \n\n          price max_flours has_intercom has_video_control has_guard  \\\n0      40000000          9         True              True     False   \n1      19000000          6         True              True     False   \n2      53999999         10        False              True      True   \n3      31000000          8         True              True      True   \n4      17500000         12         True              True     False   \n...         ...        ...          ...               ...       ...   \n5781   21299000         16         True              True      True   \n5782   18500000          9         True              True      True   \n5783   62000000         12         True              True      True   \n5784   23000000          9         True              True      True   \n5785  109000000          5         True              True      True   \n\n      has_alarm  has_video_intercom has_concierge has_bars  sqr_price  \n0         False               False         False    False     404040  \n1         False               False         False    False     414847  \n2         False               False         False    False     599999  \n3          True                True          True     True     500000  \n4          True               False         False    False     483425  \n...         ...                 ...           ...      ...        ...  \n5781       True                True          True     True     532475  \n5782       True                True          True     True     474358  \n5783       True                True          True     True     620000  \n5784       True                True          True     True     383333  \n5785       True                True          True    False     872000  \n\n[5786 rows x 33 columns]",
      "text/html": "<div>\n<style scoped>\n    .dataframe tbody tr th:only-of-type {\n        vertical-align: middle;\n    }\n\n    .dataframe tbody tr th {\n        vertical-align: top;\n    }\n\n    .dataframe thead th {\n        text-align: right;\n    }\n</style>\n<table border=\"1\" class=\"dataframe\">\n  <thead>\n    <tr style=\"text-align: right;\">\n      <th></th>\n      <th>built_type</th>\n      <th>year_built</th>\n      <th>flour</th>\n      <th>area</th>\n      <th>condition</th>\n      <th>bathrooms</th>\n      <th>balcony</th>\n      <th>exchange</th>\n      <th>furniture</th>\n      <th>ceil</th>\n      <th>...</th>\n      <th>price</th>\n      <th>max_flours</th>\n      <th>has_intercom</th>\n      <th>has_video_control</th>\n      <th>has_guard</th>\n      <th>has_alarm</th>\n      <th>has_video_intercom</th>\n      <th>has_concierge</th>\n      <th>has_bars</th>\n      <th>sqr_price</th>\n    </tr>\n  </thead>\n  <tbody>\n    <tr>\n      <th>0</th>\n      <td>монолитный</td>\n      <td>2016</td>\n      <td>4</td>\n      <td>99.0</td>\n      <td>хорошее</td>\n      <td>2 с/у и более</td>\n      <td>несколько балконов или лоджий</td>\n      <td>NaN</td>\n      <td>частично</td>\n      <td>2.7</td>\n      <td>...</td>\n      <td>40000000</td>\n      <td>9</td>\n      <td>True</td>\n      <td>True</td>\n      <td>False</td>\n      <td>False</td>\n      <td>False</td>\n      <td>False</td>\n      <td>False</td>\n      <td>404040</td>\n    </tr>\n    <tr>\n      <th>1</th>\n      <td>кирпичный</td>\n      <td>2012</td>\n      <td>4</td>\n      <td>45.8</td>\n      <td>хорошее</td>\n      <td>совмещенный</td>\n      <td>балкон</td>\n      <td>NaN</td>\n      <td>частично</td>\n      <td>2.5</td>\n      <td>...</td>\n      <td>19000000</td>\n      <td>6</td>\n      <td>True</td>\n      <td>True</td>\n      <td>False</td>\n      <td>False</td>\n      <td>False</td>\n      <td>False</td>\n      <td>False</td>\n      <td>414847</td>\n    </tr>\n    <tr>\n      <th>2</th>\n      <td>кирпичный</td>\n      <td>2021</td>\n      <td>2</td>\n      <td>90.0</td>\n      <td>NaN</td>\n      <td>NaN</td>\n      <td>NaN</td>\n      <td>NaN</td>\n      <td>NaN</td>\n      <td>3.0</td>\n      <td>...</td>\n      <td>53999999</td>\n      <td>10</td>\n      <td>False</td>\n      <td>True</td>\n      <td>True</td>\n      <td>False</td>\n      <td>False</td>\n      <td>False</td>\n      <td>False</td>\n      <td>599999</td>\n    </tr>\n    <tr>\n      <th>3</th>\n      <td>кирпичный</td>\n      <td>2021</td>\n      <td>2</td>\n      <td>62.0</td>\n      <td>среднее</td>\n      <td>NaN</td>\n      <td>NaN</td>\n      <td>Не интересует</td>\n      <td>NaN</td>\n      <td>2.7</td>\n      <td>...</td>\n      <td>31000000</td>\n      <td>8</td>\n      <td>True</td>\n      <td>True</td>\n      <td>True</td>\n      <td>True</td>\n      <td>True</td>\n      <td>True</td>\n      <td>True</td>\n      <td>500000</td>\n    </tr>\n    <tr>\n      <th>4</th>\n      <td>NaN</td>\n      <td>2005</td>\n      <td>7</td>\n      <td>36.2</td>\n      <td>хорошее</td>\n      <td>совмещенный</td>\n      <td>балкон</td>\n      <td>Не интересует</td>\n      <td>NaN</td>\n      <td>&lt;NA&gt;</td>\n      <td>...</td>\n      <td>17500000</td>\n      <td>12</td>\n      <td>True</td>\n      <td>True</td>\n      <td>False</td>\n      <td>True</td>\n      <td>False</td>\n      <td>False</td>\n      <td>False</td>\n      <td>483425</td>\n    </tr>\n    <tr>\n      <th>...</th>\n      <td>...</td>\n      <td>...</td>\n      <td>...</td>\n      <td>...</td>\n      <td>...</td>\n      <td>...</td>\n      <td>...</td>\n      <td>...</td>\n      <td>...</td>\n      <td>...</td>\n      <td>...</td>\n      <td>...</td>\n      <td>...</td>\n      <td>...</td>\n      <td>...</td>\n      <td>...</td>\n      <td>...</td>\n      <td>...</td>\n      <td>...</td>\n      <td>...</td>\n      <td>...</td>\n    </tr>\n    <tr>\n      <th>5781</th>\n      <td>кирпичный</td>\n      <td>2021</td>\n      <td>12</td>\n      <td>40.0</td>\n      <td>NaN</td>\n      <td>NaN</td>\n      <td>NaN</td>\n      <td>Не интересует</td>\n      <td>NaN</td>\n      <td>3.0</td>\n      <td>...</td>\n      <td>21299000</td>\n      <td>16</td>\n      <td>True</td>\n      <td>True</td>\n      <td>True</td>\n      <td>True</td>\n      <td>True</td>\n      <td>True</td>\n      <td>True</td>\n      <td>532475</td>\n    </tr>\n    <tr>\n      <th>5782</th>\n      <td>NaN</td>\n      <td>2014</td>\n      <td>8</td>\n      <td>39.0</td>\n      <td>NaN</td>\n      <td>NaN</td>\n      <td>NaN</td>\n      <td>Не интересует</td>\n      <td>NaN</td>\n      <td>&lt;NA&gt;</td>\n      <td>...</td>\n      <td>18500000</td>\n      <td>9</td>\n      <td>True</td>\n      <td>True</td>\n      <td>True</td>\n      <td>True</td>\n      <td>True</td>\n      <td>True</td>\n      <td>True</td>\n      <td>474358</td>\n    </tr>\n    <tr>\n      <th>5783</th>\n      <td>монолитный</td>\n      <td>2021</td>\n      <td>10</td>\n      <td>100.0</td>\n      <td>хорошее</td>\n      <td>NaN</td>\n      <td>NaN</td>\n      <td>Не интересует</td>\n      <td>NaN</td>\n      <td>3.0</td>\n      <td>...</td>\n      <td>62000000</td>\n      <td>12</td>\n      <td>True</td>\n      <td>True</td>\n      <td>True</td>\n      <td>True</td>\n      <td>True</td>\n      <td>True</td>\n      <td>True</td>\n      <td>620000</td>\n    </tr>\n    <tr>\n      <th>5784</th>\n      <td>NaN</td>\n      <td>2017</td>\n      <td>8</td>\n      <td>60.0</td>\n      <td>хорошее</td>\n      <td>раздельный</td>\n      <td>лоджия</td>\n      <td>NaN</td>\n      <td>NaN</td>\n      <td>2.7</td>\n      <td>...</td>\n      <td>23000000</td>\n      <td>9</td>\n      <td>True</td>\n      <td>True</td>\n      <td>True</td>\n      <td>True</td>\n      <td>True</td>\n      <td>True</td>\n      <td>True</td>\n      <td>383333</td>\n    </tr>\n    <tr>\n      <th>5785</th>\n      <td>NaN</td>\n      <td>2015</td>\n      <td>3</td>\n      <td>125.0</td>\n      <td>NaN</td>\n      <td>2 с/у и более</td>\n      <td>NaN</td>\n      <td>NaN</td>\n      <td>частично</td>\n      <td>3.0</td>\n      <td>...</td>\n      <td>109000000</td>\n      <td>5</td>\n      <td>True</td>\n      <td>True</td>\n      <td>True</td>\n      <td>True</td>\n      <td>True</td>\n      <td>True</td>\n      <td>False</td>\n      <td>872000</td>\n    </tr>\n  </tbody>\n</table>\n<p>5786 rows × 33 columns</p>\n</div>"
     },
     "execution_count": 200,
     "metadata": {},
     "output_type": "execute_result"
    }
   ],
   "source": [
    "df['sqr_price'] = np.floor(df['price'] / df['area']).astype('Int64')\n",
    "df"
   ],
   "metadata": {
    "collapsed": false,
    "pycharm": {
     "name": "#%%\n"
    }
   }
  },
  {
   "cell_type": "markdown",
   "source": [
    "## VI. Hypothesis"
   ],
   "metadata": {
    "collapsed": false,
    "pycharm": {
     "name": "#%% md\n"
    }
   }
  },
  {
   "cell_type": "markdown",
   "source": [
    "### Рост средней цены за кв.м в зависимости от года постройки"
   ],
   "metadata": {
    "collapsed": false,
    "pycharm": {
     "name": "#%% md\n"
    }
   }
  },
  {
   "cell_type": "code",
   "execution_count": 201,
   "outputs": [],
   "source": [
    "mean_price_by_year = df['sqr_price'].groupby(df['year_built']).mean()\n",
    "X,Y = mean_price_by_year.keys(), mean_price_by_year.values\n"
   ],
   "metadata": {
    "collapsed": false,
    "pycharm": {
     "name": "#%%\n"
    }
   }
  },
  {
   "cell_type": "code",
   "execution_count": 206,
   "outputs": [],
   "source": [
    "linear_regressor = LinearRegression()\n",
    "linear_regressor.fit(np.array(X).reshape(-1, 1), np.array(Y).reshape(-1, 1))\n",
    "Y_pred = linear_regressor.predict(np.array(X).reshape(-1, 1))"
   ],
   "metadata": {
    "collapsed": false,
    "pycharm": {
     "name": "#%%\n"
    }
   }
  },
  {
   "cell_type": "code",
   "execution_count": 207,
   "outputs": [
    {
     "data": {
      "text/plain": "<Figure size 640x480 with 1 Axes>",
      "image/png": "[encoded data removed]"
     },
     "metadata": {},
     "output_type": "display_data"
    }
   ],
   "source": [
    "plt.scatter(X, Y, s=5)\n",
    "plt.plot(X, Y_pred, color='red')\n",
    "plt.xlabel('Год постройки ')\n",
    "plt.xlim(1950, 2022)\n",
    "plt.ylabel('Средняя цена за кв. м ( тг ) ')\n",
    "plt.ylim(300000, 600000)\n",
    "plt.show()"
   ],
   "metadata": {
    "collapsed": false,
    "pycharm": {
     "name": "#%%\n"
    }
   }
  },
  {
   "cell_type": "code",
   "execution_count": null,
   "outputs": [],
   "source": [],
   "metadata": {
    "collapsed": false,
    "pycharm": {
     "name": "#%%\n"
    }
   }
  },
  {
   "cell_type": "code",
   "execution_count": null,
   "outputs": [],
   "source": [],
   "metadata": {
    "collapsed": false,
    "pycharm": {
     "name": "#%%\n"
    }
   }
  }
 ],
 "metadata": {
  "kernelspec": {
   "display_name": "Python 3 (ipykernel)",
   "language": "python",
   "name": "python3"
  },
  "language_info": {
   "codemirror_mode": {
    "name": "ipython",
    "version": 3
   },
   "file_extension": ".py",
   "mimetype": "text/x-python",
   "name": "python",
   "nbconvert_exporter": "python",
   "pygments_lexer": "ipython3",
   "version": "3.10.7"
  }
 },
 "nbformat": 4,
 "nbformat_minor": 1
}