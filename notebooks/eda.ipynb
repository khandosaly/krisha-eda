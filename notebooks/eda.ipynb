{
 "cells": [
  {
   "cell_type": "markdown",
   "source": [
    "# I. Предисловие"
   ],
   "metadata": {
    "collapsed": false,
    "pycharm": {
     "name": "#%% md\n"
    }
   }
  },
  {
   "cell_type": "markdown",
   "source": [
    "Данные собраны из сайта krisha.kz, с фильтром по городу Астана.\n",
    "built_type - тип строения\n",
    "year_built - год постройки\n",
    "flour - этаж\n",
    "area - площадь\n",
    "condition - состояние\n",
    "bathrooms - сан. узлы\n",
    "balcony - балконы\n",
    "exchange - возможность обменять\n",
    "furniture - мебель\n",
    "security - охрана, домофон и т.д\n",
    "ceil - высота потолков\n",
    "parking - паркинг\n",
    "residance - жилой комплекс\n",
    "phone - проводной телефон\n",
    "floor - тип пола\n",
    "door - тип двери\n",
    "balcony_glass - стеклянный балкон\n",
    "ex_dormetory - бывш. общежитие\n",
    "inernet - интернет\n",
    "id - уникальный номер\n",
    "userType - тип пользователя\n",
    "rooms - количество комнат\n",
    "lat - широта\n",
    "lon - долгота\n",
    "district - район\n",
    "street - улица\n",
    "house_num - номер квартиры\n",
    "price - цена\n"
   ],
   "metadata": {
    "collapsed": false,
    "pycharm": {
     "name": "#%% md\n"
    }
   }
  },
  {
   "cell_type": "markdown",
   "source": [
    "# II. Импорт данных и библиотек"
   ],
   "metadata": {
    "collapsed": false,
    "pycharm": {
     "name": "#%% md\n"
    }
   }
  },
  {
   "cell_type": "code",
   "execution_count": 1,
   "outputs": [],
   "source": [
    "import pandas as pd\n",
    "import numpy as np\n",
    "import matplotlib.pyplot as plt\n",
    "from scipy.stats import stats\n",
    "from sklearn.linear_model import LinearRegression, Lasso, Ridge, ElasticNet"
   ],
   "metadata": {
    "collapsed": false,
    "pycharm": {
     "name": "#%%\n"
    }
   }
  },
  {
   "cell_type": "code",
   "execution_count": 2,
   "metadata": {
    "pycharm": {
     "name": "#%%\n"
    }
   },
   "outputs": [
    {
     "data": {
      "text/plain": "      built_type  year_built     flour   area condition      bathrooms  \\\n0     монолитный        2016    4 из 9   99.0   хорошее  2 с/у и более   \n1      кирпичный        2012    4 из 6   45.8   хорошее    совмещенный   \n2      кирпичный        2021   2 из 10   90.0       NaN            NaN   \n3      кирпичный        2021    2 из 8   62.0   среднее            NaN   \n4            NaN        2005   7 из 12   36.2   хорошее    совмещенный   \n...          ...         ...       ...    ...       ...            ...   \n5781   кирпичный        2021  12 из 16   40.0       NaN            NaN   \n5782         NaN        2014    8 из 9   39.0       NaN            NaN   \n5783  монолитный        2021  10 из 12  100.0   хорошее            NaN   \n5784         NaN        2017    8 из 9   60.0   хорошее     раздельный   \n5785         NaN        2015    3 из 5  125.0       NaN  2 с/у и более   \n\n                            balcony       exchange furniture  \\\n0     несколько балконов или лоджий            NaN  частично   \n1                            балкон            NaN  частично   \n2                               NaN            NaN       NaN   \n3                               NaN  Не интересует       NaN   \n4                            балкон  Не интересует       NaN   \n...                             ...            ...       ...   \n5781                            NaN  Не интересует       NaN   \n5782                            NaN  Не интересует       NaN   \n5783                            NaN  Не интересует       NaN   \n5784                         лоджия            NaN       NaN   \n5785                            NaN            NaN  частично   \n\n                                               security  ... inernet  \\\n0                              домофон, видеонаблюдение  ...  оптика   \n1                              домофон, видеонаблюдение  ...  оптика   \n2                               охрана, видеонаблюдение  ...     NaN   \n3                                                   NaN  ...     NaN   \n4                домофон, сигнализация, видеонаблюдение  ...     NaN   \n...                                                 ...  ...     ...   \n5781                                                NaN  ...     NaN   \n5782                                                NaN  ...     NaN   \n5783                                                NaN  ...     NaN   \n5784                                                NaN  ...    ADSL   \n5785  охрана, домофон, сигнализация, видеонаблюдение...  ...     NaN   \n\n             id    userType rooms        lat        lon       district  \\\n0     674641098       owner     3  51.134068  71.367502  Esilyskiy_r-n   \n1     676011227       owner     1  51.123006  71.503660     Almaty_r-n   \n2     681148481  specialist     3  51.101005  71.401826  Esilyskiy_r-n   \n3     681724680       owner     2  51.172030  71.394117   Saryarka_r-n   \n4     681619392       owner     1  51.153648  71.500749     Almaty_r-n   \n...         ...         ...   ...        ...        ...            ...   \n5781  679139665  specialist     2  51.132520  71.378390  Esilyskiy_r-n   \n5782  681784419       owner     1  51.158612  71.502708     Almaty_r-n   \n5783  680610156  specialist     4  51.126986  71.395395  Esilyskiy_r-n   \n5784  681669989  specialist     2  51.125056  71.359905  Esilyskiy_r-n   \n5785  667637251  specialist     3  51.112563  71.417457  Esilyskiy_r-n   \n\n                    street house_num      price  \n0          Ilyyasa_Omarova       NaN   40000000  \n1     Temirbeka_Zhurgenova        27   19000000  \n2                 Uly_Dala       NaN   53999999  \n3                  Zhambyl        10   31000000  \n4                Musrepova         7   17500000  \n...                    ...       ...        ...  \n5781                 E-753         3   21299000  \n5782         Kudayberdiuly        23   18500000  \n5783               Tole_bi       NaN   62000000  \n5784       Zh_Moldagalieva         2   23000000  \n5785                Sauran        18  109000000  \n\n[5786 rows x 28 columns]",
      "text/html": "<div>\n<style scoped>\n    .dataframe tbody tr th:only-of-type {\n        vertical-align: middle;\n    }\n\n    .dataframe tbody tr th {\n        vertical-align: top;\n    }\n\n    .dataframe thead th {\n        text-align: right;\n    }\n</style>\n<table border=\"1\" class=\"dataframe\">\n  <thead>\n    <tr style=\"text-align: right;\">\n      <th></th>\n      <th>built_type</th>\n      <th>year_built</th>\n      <th>flour</th>\n      <th>area</th>\n      <th>condition</th>\n      <th>bathrooms</th>\n      <th>balcony</th>\n      <th>exchange</th>\n      <th>furniture</th>\n      <th>security</th>\n      <th>...</th>\n      <th>inernet</th>\n      <th>id</th>\n      <th>userType</th>\n      <th>rooms</th>\n      <th>lat</th>\n      <th>lon</th>\n      <th>district</th>\n      <th>street</th>\n      <th>house_num</th>\n      <th>price</th>\n    </tr>\n  </thead>\n  <tbody>\n    <tr>\n      <th>0</th>\n      <td>монолитный</td>\n      <td>2016</td>\n      <td>4 из 9</td>\n      <td>99.0</td>\n      <td>хорошее</td>\n      <td>2 с/у и более</td>\n      <td>несколько балконов или лоджий</td>\n      <td>NaN</td>\n      <td>частично</td>\n      <td>домофон, видеонаблюдение</td>\n      <td>...</td>\n      <td>оптика</td>\n      <td>674641098</td>\n      <td>owner</td>\n      <td>3</td>\n      <td>51.134068</td>\n      <td>71.367502</td>\n      <td>Esilyskiy_r-n</td>\n      <td>Ilyyasa_Omarova</td>\n      <td>NaN</td>\n      <td>40000000</td>\n    </tr>\n    <tr>\n      <th>1</th>\n      <td>кирпичный</td>\n      <td>2012</td>\n      <td>4 из 6</td>\n      <td>45.8</td>\n      <td>хорошее</td>\n      <td>совмещенный</td>\n      <td>балкон</td>\n      <td>NaN</td>\n      <td>частично</td>\n      <td>домофон, видеонаблюдение</td>\n      <td>...</td>\n      <td>оптика</td>\n      <td>676011227</td>\n      <td>owner</td>\n      <td>1</td>\n      <td>51.123006</td>\n      <td>71.503660</td>\n      <td>Almaty_r-n</td>\n      <td>Temirbeka_Zhurgenova</td>\n      <td>27</td>\n      <td>19000000</td>\n    </tr>\n    <tr>\n      <th>2</th>\n      <td>кирпичный</td>\n      <td>2021</td>\n      <td>2 из 10</td>\n      <td>90.0</td>\n      <td>NaN</td>\n      <td>NaN</td>\n      <td>NaN</td>\n      <td>NaN</td>\n      <td>NaN</td>\n      <td>охрана, видеонаблюдение</td>\n      <td>...</td>\n      <td>NaN</td>\n      <td>681148481</td>\n      <td>specialist</td>\n      <td>3</td>\n      <td>51.101005</td>\n      <td>71.401826</td>\n      <td>Esilyskiy_r-n</td>\n      <td>Uly_Dala</td>\n      <td>NaN</td>\n      <td>53999999</td>\n    </tr>\n    <tr>\n      <th>3</th>\n      <td>кирпичный</td>\n      <td>2021</td>\n      <td>2 из 8</td>\n      <td>62.0</td>\n      <td>среднее</td>\n      <td>NaN</td>\n      <td>NaN</td>\n      <td>Не интересует</td>\n      <td>NaN</td>\n      <td>NaN</td>\n      <td>...</td>\n      <td>NaN</td>\n      <td>681724680</td>\n      <td>owner</td>\n      <td>2</td>\n      <td>51.172030</td>\n      <td>71.394117</td>\n      <td>Saryarka_r-n</td>\n      <td>Zhambyl</td>\n      <td>10</td>\n      <td>31000000</td>\n    </tr>\n    <tr>\n      <th>4</th>\n      <td>NaN</td>\n      <td>2005</td>\n      <td>7 из 12</td>\n      <td>36.2</td>\n      <td>хорошее</td>\n      <td>совмещенный</td>\n      <td>балкон</td>\n      <td>Не интересует</td>\n      <td>NaN</td>\n      <td>домофон, сигнализация, видеонаблюдение</td>\n      <td>...</td>\n      <td>NaN</td>\n      <td>681619392</td>\n      <td>owner</td>\n      <td>1</td>\n      <td>51.153648</td>\n      <td>71.500749</td>\n      <td>Almaty_r-n</td>\n      <td>Musrepova</td>\n      <td>7</td>\n      <td>17500000</td>\n    </tr>\n    <tr>\n      <th>...</th>\n      <td>...</td>\n      <td>...</td>\n      <td>...</td>\n      <td>...</td>\n      <td>...</td>\n      <td>...</td>\n      <td>...</td>\n      <td>...</td>\n      <td>...</td>\n      <td>...</td>\n      <td>...</td>\n      <td>...</td>\n      <td>...</td>\n      <td>...</td>\n      <td>...</td>\n      <td>...</td>\n      <td>...</td>\n      <td>...</td>\n      <td>...</td>\n      <td>...</td>\n      <td>...</td>\n    </tr>\n    <tr>\n      <th>5781</th>\n      <td>кирпичный</td>\n      <td>2021</td>\n      <td>12 из 16</td>\n      <td>40.0</td>\n      <td>NaN</td>\n      <td>NaN</td>\n      <td>NaN</td>\n      <td>Не интересует</td>\n      <td>NaN</td>\n      <td>NaN</td>\n      <td>...</td>\n      <td>NaN</td>\n      <td>679139665</td>\n      <td>specialist</td>\n      <td>2</td>\n      <td>51.132520</td>\n      <td>71.378390</td>\n      <td>Esilyskiy_r-n</td>\n      <td>E-753</td>\n      <td>3</td>\n      <td>21299000</td>\n    </tr>\n    <tr>\n      <th>5782</th>\n      <td>NaN</td>\n      <td>2014</td>\n      <td>8 из 9</td>\n      <td>39.0</td>\n      <td>NaN</td>\n      <td>NaN</td>\n      <td>NaN</td>\n      <td>Не интересует</td>\n      <td>NaN</td>\n      <td>NaN</td>\n      <td>...</td>\n      <td>NaN</td>\n      <td>681784419</td>\n      <td>owner</td>\n      <td>1</td>\n      <td>51.158612</td>\n      <td>71.502708</td>\n      <td>Almaty_r-n</td>\n      <td>Kudayberdiuly</td>\n      <td>23</td>\n      <td>18500000</td>\n    </tr>\n    <tr>\n      <th>5783</th>\n      <td>монолитный</td>\n      <td>2021</td>\n      <td>10 из 12</td>\n      <td>100.0</td>\n      <td>хорошее</td>\n      <td>NaN</td>\n      <td>NaN</td>\n      <td>Не интересует</td>\n      <td>NaN</td>\n      <td>NaN</td>\n      <td>...</td>\n      <td>NaN</td>\n      <td>680610156</td>\n      <td>specialist</td>\n      <td>4</td>\n      <td>51.126986</td>\n      <td>71.395395</td>\n      <td>Esilyskiy_r-n</td>\n      <td>Tole_bi</td>\n      <td>NaN</td>\n      <td>62000000</td>\n    </tr>\n    <tr>\n      <th>5784</th>\n      <td>NaN</td>\n      <td>2017</td>\n      <td>8 из 9</td>\n      <td>60.0</td>\n      <td>хорошее</td>\n      <td>раздельный</td>\n      <td>лоджия</td>\n      <td>NaN</td>\n      <td>NaN</td>\n      <td>NaN</td>\n      <td>...</td>\n      <td>ADSL</td>\n      <td>681669989</td>\n      <td>specialist</td>\n      <td>2</td>\n      <td>51.125056</td>\n      <td>71.359905</td>\n      <td>Esilyskiy_r-n</td>\n      <td>Zh_Moldagalieva</td>\n      <td>2</td>\n      <td>23000000</td>\n    </tr>\n    <tr>\n      <th>5785</th>\n      <td>NaN</td>\n      <td>2015</td>\n      <td>3 из 5</td>\n      <td>125.0</td>\n      <td>NaN</td>\n      <td>2 с/у и более</td>\n      <td>NaN</td>\n      <td>NaN</td>\n      <td>частично</td>\n      <td>охрана, домофон, сигнализация, видеонаблюдение...</td>\n      <td>...</td>\n      <td>NaN</td>\n      <td>667637251</td>\n      <td>specialist</td>\n      <td>3</td>\n      <td>51.112563</td>\n      <td>71.417457</td>\n      <td>Esilyskiy_r-n</td>\n      <td>Sauran</td>\n      <td>18</td>\n      <td>109000000</td>\n    </tr>\n  </tbody>\n</table>\n<p>5786 rows × 28 columns</p>\n</div>"
     },
     "execution_count": 2,
     "metadata": {},
     "output_type": "execute_result"
    }
   ],
   "source": [
    "from sklearn.model_selection import train_test_split, cross_val_score, GridSearchCV\n",
    "from sklearn.preprocessing import StandardScaler\n",
    "df = pd.read_csv('../data/krisha.csv')\n",
    "df"
   ]
  },
  {
   "cell_type": "markdown",
   "source": [
    "# III. Подготовка данных"
   ],
   "metadata": {
    "collapsed": false,
    "pycharm": {
     "name": "#%% md\n"
    }
   }
  },
  {
   "cell_type": "code",
   "execution_count": 3,
   "outputs": [],
   "source": [
    "from utils.preparation import *"
   ],
   "metadata": {
    "collapsed": false,
    "pycharm": {
     "name": "#%%\n"
    }
   }
  },
  {
   "cell_type": "markdown",
   "source": [
    "## 1. Первичное удаление лишних столбцов\n",
    "\n",
    "Удаление столбцов, до учитывания их веса как feature.\n",
    "Только для самых явных столбцов по значению.\n",
    "\n",
    "### 1.1 Удаление идентификаторов\n",
    "\n",
    "ИД и номер квартиры не могут иметь веса для модели"
   ],
   "metadata": {
    "collapsed": false
   }
  },
  {
   "cell_type": "code",
   "execution_count": 4,
   "outputs": [],
   "source": [
    "for col in ('id', 'house_num'):\n",
    "    df = df.drop(col, axis=1)\n"
   ],
   "metadata": {
    "collapsed": false,
    "pycharm": {
     "name": "#%%\n"
    }
   }
  },
  {
   "cell_type": "markdown",
   "source": [
    "## 2. Первичное преобразование не явных типов\n",
    "\n",
    "Например, колонку ceil преобразуем из строки '2.5 м' в число 2.5."
   ],
   "metadata": {
    "collapsed": false,
    "pycharm": {
     "name": "#%% md\n"
    }
   }
  },
  {
   "cell_type": "markdown",
   "source": [
    "### 2.1 Преобразование числовых строк в обычные числа"
   ],
   "metadata": {
    "collapsed": false,
    "pycharm": {
     "name": "#%% md\n"
    }
   }
  },
  {
   "cell_type": "code",
   "execution_count": 5,
   "outputs": [
    {
     "data": {
      "text/plain": "      max_flours  flour  ceil\n0              9      4   2.7\n1              6      4   2.5\n2             10      2   3.0\n3              8      2   2.7\n4             12      7  <NA>\n...          ...    ...   ...\n5781          16     12   3.0\n5782           9      8  <NA>\n5783          12     10   3.0\n5784           9      8   2.7\n5785           5      3   3.0\n\n[5786 rows x 3 columns]",
      "text/html": "<div>\n<style scoped>\n    .dataframe tbody tr th:only-of-type {\n        vertical-align: middle;\n    }\n\n    .dataframe tbody tr th {\n        vertical-align: top;\n    }\n\n    .dataframe thead th {\n        text-align: right;\n    }\n</style>\n<table border=\"1\" class=\"dataframe\">\n  <thead>\n    <tr style=\"text-align: right;\">\n      <th></th>\n      <th>max_flours</th>\n      <th>flour</th>\n      <th>ceil</th>\n    </tr>\n  </thead>\n  <tbody>\n    <tr>\n      <th>0</th>\n      <td>9</td>\n      <td>4</td>\n      <td>2.7</td>\n    </tr>\n    <tr>\n      <th>1</th>\n      <td>6</td>\n      <td>4</td>\n      <td>2.5</td>\n    </tr>\n    <tr>\n      <th>2</th>\n      <td>10</td>\n      <td>2</td>\n      <td>3.0</td>\n    </tr>\n    <tr>\n      <th>3</th>\n      <td>8</td>\n      <td>2</td>\n      <td>2.7</td>\n    </tr>\n    <tr>\n      <th>4</th>\n      <td>12</td>\n      <td>7</td>\n      <td>&lt;NA&gt;</td>\n    </tr>\n    <tr>\n      <th>...</th>\n      <td>...</td>\n      <td>...</td>\n      <td>...</td>\n    </tr>\n    <tr>\n      <th>5781</th>\n      <td>16</td>\n      <td>12</td>\n      <td>3.0</td>\n    </tr>\n    <tr>\n      <th>5782</th>\n      <td>9</td>\n      <td>8</td>\n      <td>&lt;NA&gt;</td>\n    </tr>\n    <tr>\n      <th>5783</th>\n      <td>12</td>\n      <td>10</td>\n      <td>3.0</td>\n    </tr>\n    <tr>\n      <th>5784</th>\n      <td>9</td>\n      <td>8</td>\n      <td>2.7</td>\n    </tr>\n    <tr>\n      <th>5785</th>\n      <td>5</td>\n      <td>3</td>\n      <td>3.0</td>\n    </tr>\n  </tbody>\n</table>\n<p>5786 rows × 3 columns</p>\n</div>"
     },
     "execution_count": 5,
     "metadata": {},
     "output_type": "execute_result"
    }
   ],
   "source": [
    "df['max_flours'] = df['flour'].apply(get_max_floor).astype('Int64')\n",
    "df['flour'] = df['flour'].apply(get_current_floor).astype('Int64')\n",
    "df['ceil'] = df['ceil'].str.replace(' м', '').astype('Float64')\n",
    "df[['max_flours', 'flour', 'ceil']]"
   ],
   "metadata": {
    "collapsed": false,
    "pycharm": {
     "name": "#%%\n"
    }
   }
  },
  {
   "cell_type": "markdown",
   "source": [
    "### 2.2 Преобразование строки-списка в отдельные столбцы"
   ],
   "metadata": {
    "collapsed": false
   }
  },
  {
   "cell_type": "code",
   "execution_count": 6,
   "outputs": [
    {
     "data": {
      "text/plain": "['домофон',\n 'видеонаблюдение',\n 'охрана',\n 'сигнализация',\n 'кодовый замок',\n 'видеодомофон',\n 'консьерж',\n 'решетки на окнах']"
     },
     "execution_count": 6,
     "metadata": {},
     "output_type": "execute_result"
    }
   ],
   "source": [
    "get_security_types(df.security)\n"
   ],
   "metadata": {
    "collapsed": false,
    "pycharm": {
     "name": "#%%\n"
    }
   }
  },
  {
   "cell_type": "code",
   "execution_count": 7,
   "outputs": [],
   "source": [
    "security_names = {\n",
    "    'has_intercom': 'домофон',\n",
    "    'has_video_control': 'видеонаблюдение',\n",
    "    'has_guard': 'охрана',\n",
    "    'has_alarm': 'сигнализация',\n",
    "    'has_video_intercom': 'видеодомофон',\n",
    "    'has_concierge': 'консьерж',\n",
    "    'has_bars': 'решетки на окнах',\n",
    "}"
   ],
   "metadata": {
    "collapsed": false,
    "pycharm": {
     "name": "#%%\n"
    }
   }
  },
  {
   "cell_type": "code",
   "execution_count": 8,
   "outputs": [],
   "source": [
    "for field_name, token in security_names.items():\n",
    "    df[field_name] = df['security'].apply(has_token, token=token).astype('object')\n",
    "df = df.drop('security', axis=1)\n"
   ],
   "metadata": {
    "collapsed": false,
    "pycharm": {
     "name": "#%%\n"
    }
   }
  },
  {
   "cell_type": "markdown",
   "source": [
    "### Итог"
   ],
   "metadata": {
    "collapsed": false,
    "pycharm": {
     "name": "#%% md\n"
    }
   }
  },
  {
   "cell_type": "code",
   "execution_count": 9,
   "outputs": [
    {
     "data": {
      "text/plain": "built_type             object\nyear_built              int64\nflour                   Int64\narea                  float64\ncondition              object\nbathrooms              object\nbalcony                object\nexchange               object\nfurniture              object\nceil                  Float64\nparking                object\nresidance              object\nphone                  object\nfloor                  object\ndoor                   object\nbalcony_glass          object\nex_dormetory           object\ninernet                object\nuserType               object\nrooms                   int64\nlat                   float64\nlon                   float64\ndistrict               object\nstreet                 object\nprice                   int64\nmax_flours              Int64\nhas_intercom           object\nhas_video_control      object\nhas_guard              object\nhas_alarm              object\nhas_video_intercom     object\nhas_concierge          object\nhas_bars               object\ndtype: object"
     },
     "execution_count": 9,
     "metadata": {},
     "output_type": "execute_result"
    }
   ],
   "source": [
    "df.dtypes"
   ],
   "metadata": {
    "collapsed": false,
    "pycharm": {
     "name": "#%%\n"
    }
   }
  },
  {
   "cell_type": "markdown",
   "source": [
    "## 3. Замена отсутствующих значений"
   ],
   "metadata": {
    "collapsed": false,
    "pycharm": {
     "name": "#%% md\n"
    }
   }
  },
  {
   "cell_type": "code",
   "execution_count": 10,
   "outputs": [
    {
     "data": {
      "text/plain": "built_type             341\nyear_built               0\nflour                  149\narea                     0\ncondition             2019\nbathrooms             1936\nbalcony               2311\nexchange              3084\nfurniture             4316\nceil                   771\nparking               2435\nresidance             1496\nphone                 4184\nfloor                 3026\ndoor                  2632\nbalcony_glass         2731\nex_dormetory           144\ninernet               3677\nuserType                 0\nrooms                    0\nlat                      0\nlon                      0\ndistrict               306\nstreet                   0\nprice                    0\nmax_flours             261\nhas_intercom             0\nhas_video_control        0\nhas_guard                0\nhas_alarm                0\nhas_video_intercom       0\nhas_concierge            0\nhas_bars                 0\ndtype: int64"
     },
     "execution_count": 10,
     "metadata": {},
     "output_type": "execute_result"
    }
   ],
   "source": [
    "df.isna().sum()\n"
   ],
   "metadata": {
    "collapsed": false,
    "pycharm": {
     "name": "#%%\n"
    }
   }
  },
  {
   "cell_type": "markdown",
   "source": [
    "### 3.1 Замена столбцов, с числовыми значениями"
   ],
   "metadata": {
    "collapsed": false,
    "pycharm": {
     "name": "#%% md\n"
    }
   }
  },
  {
   "cell_type": "code",
   "source": [
    "null_count = df.select_dtypes(include=[np.number]).isna().sum()\n",
    "null_count"
   ],
   "metadata": {
    "collapsed": false,
    "pycharm": {
     "name": "#%%\n"
    }
   },
   "execution_count": 11,
   "outputs": [
    {
     "data": {
      "text/plain": "year_built      0\nflour         149\narea            0\nceil          771\nrooms           0\nlat             0\nlon             0\nprice           0\nmax_flours    261\ndtype: int64"
     },
     "execution_count": 11,
     "metadata": {},
     "output_type": "execute_result"
    }
   ]
  },
  {
   "cell_type": "markdown",
   "source": [
    "Столбцы, с числовыми значениями, у которых отсутствуют данные:"
   ],
   "metadata": {
    "collapsed": false,
    "pycharm": {
     "name": "#%% md\n"
    }
   }
  },
  {
   "cell_type": "code",
   "execution_count": 12,
   "outputs": [
    {
     "data": {
      "text/plain": "flour         149\nceil          771\nmax_flours    261\ndtype: int64"
     },
     "execution_count": 12,
     "metadata": {},
     "output_type": "execute_result"
    }
   ],
   "source": [
    "with_null = null_count[null_count!=0]\n",
    "with_null"
   ],
   "metadata": {
    "collapsed": false,
    "pycharm": {
     "name": "#%%\n"
    }
   }
  },
  {
   "cell_type": "markdown",
   "source": [
    "Заменяем их на самые частые значения"
   ],
   "metadata": {
    "collapsed": false,
    "pycharm": {
     "name": "#%% md\n"
    }
   }
  },
  {
   "cell_type": "code",
   "source": [
    "for field in with_null.keys():\n",
    "    print(field, df[field].mode()[0])\n",
    "    df[field].fillna(df[field].mode()[0], inplace=True)\n",
    "\n",
    "df[with_null.keys()]"
   ],
   "metadata": {
    "collapsed": false,
    "pycharm": {
     "name": "#%%\n"
    }
   },
   "execution_count": 13,
   "outputs": [
    {
     "name": "stdout",
     "output_type": "stream",
     "text": [
      "flour 3\n",
      "ceil 2.7\n",
      "max_flours 9\n"
     ]
    },
    {
     "data": {
      "text/plain": "      flour  ceil  max_flours\n0         4   2.7           9\n1         4   2.5           6\n2         2   3.0          10\n3         2   2.7           8\n4         7   2.7          12\n...     ...   ...         ...\n5781     12   3.0          16\n5782      8   2.7           9\n5783     10   3.0          12\n5784      8   2.7           9\n5785      3   3.0           5\n\n[5786 rows x 3 columns]",
      "text/html": "<div>\n<style scoped>\n    .dataframe tbody tr th:only-of-type {\n        vertical-align: middle;\n    }\n\n    .dataframe tbody tr th {\n        vertical-align: top;\n    }\n\n    .dataframe thead th {\n        text-align: right;\n    }\n</style>\n<table border=\"1\" class=\"dataframe\">\n  <thead>\n    <tr style=\"text-align: right;\">\n      <th></th>\n      <th>flour</th>\n      <th>ceil</th>\n      <th>max_flours</th>\n    </tr>\n  </thead>\n  <tbody>\n    <tr>\n      <th>0</th>\n      <td>4</td>\n      <td>2.7</td>\n      <td>9</td>\n    </tr>\n    <tr>\n      <th>1</th>\n      <td>4</td>\n      <td>2.5</td>\n      <td>6</td>\n    </tr>\n    <tr>\n      <th>2</th>\n      <td>2</td>\n      <td>3.0</td>\n      <td>10</td>\n    </tr>\n    <tr>\n      <th>3</th>\n      <td>2</td>\n      <td>2.7</td>\n      <td>8</td>\n    </tr>\n    <tr>\n      <th>4</th>\n      <td>7</td>\n      <td>2.7</td>\n      <td>12</td>\n    </tr>\n    <tr>\n      <th>...</th>\n      <td>...</td>\n      <td>...</td>\n      <td>...</td>\n    </tr>\n    <tr>\n      <th>5781</th>\n      <td>12</td>\n      <td>3.0</td>\n      <td>16</td>\n    </tr>\n    <tr>\n      <th>5782</th>\n      <td>8</td>\n      <td>2.7</td>\n      <td>9</td>\n    </tr>\n    <tr>\n      <th>5783</th>\n      <td>10</td>\n      <td>3.0</td>\n      <td>12</td>\n    </tr>\n    <tr>\n      <th>5784</th>\n      <td>8</td>\n      <td>2.7</td>\n      <td>9</td>\n    </tr>\n    <tr>\n      <th>5785</th>\n      <td>3</td>\n      <td>3.0</td>\n      <td>5</td>\n    </tr>\n  </tbody>\n</table>\n<p>5786 rows × 3 columns</p>\n</div>"
     },
     "execution_count": 13,
     "metadata": {},
     "output_type": "execute_result"
    }
   ]
  },
  {
   "cell_type": "markdown",
   "source": [
    "Итог:"
   ],
   "metadata": {
    "collapsed": false,
    "pycharm": {
     "name": "#%% md\n"
    }
   }
  },
  {
   "cell_type": "code",
   "execution_count": 14,
   "outputs": [
    {
     "data": {
      "text/plain": "year_built    0\nflour         0\narea          0\nceil          0\nrooms         0\nlat           0\nlon           0\nprice         0\nmax_flours    0\ndtype: int64"
     },
     "execution_count": 14,
     "metadata": {},
     "output_type": "execute_result"
    }
   ],
   "source": [
    "df.select_dtypes(include=[np.number]).isna().sum()"
   ],
   "metadata": {
    "collapsed": false,
    "pycharm": {
     "name": "#%%\n"
    }
   }
  },
  {
   "cell_type": "markdown",
   "source": [
    "### 3.2 Замена столбцов, с категориальными значениям"
   ],
   "metadata": {
    "collapsed": false
   }
  },
  {
   "cell_type": "code",
   "execution_count": 15,
   "outputs": [
    {
     "name": "stdout",
     "output_type": "stream",
     "text": [
      "built_type ['монолитный' 'кирпичный' nan 'иное' 'панельный']\n",
      "condition ['хорошее' nan 'среднее' 'черновая отделка' 'свободная планировка'\n",
      " 'требует ремонта']\n",
      "bathrooms ['2 с/у и более' 'совмещенный' nan 'раздельный' 'нет']\n",
      "balcony ['несколько балконов или лоджий' 'балкон' nan 'лоджия' 'балкон и лоджия']\n",
      "exchange [nan 'Не интересует' 'Возможен обмен']\n",
      "furniture ['частично' nan 'полностью' 'без мебели']\n",
      "parking [nan 'паркинг' 'рядом охраняемая стоянка' 'гараж']\n",
      "phone ['отдельный' 'нет' nan 'есть возможность подключения' 'блокиратор']\n",
      "floor ['линолеум' nan 'ламинат' 'паркет' 'пробковый' 'плитка' 'дерево'\n",
      " 'ковролан']\n",
      "door ['металлическая' nan 'бронированная' 'деревянная']\n",
      "balcony_glass ['да' nan 'нет']\n",
      "ex_dormetory ['нет' nan 'да']\n",
      "inernet ['оптика' nan 'ADSL' 'проводной' 'через TV кабель']\n",
      "district ['Esilyskiy_r-n' 'Almaty_r-n' 'Saryarka_r-n' 'r-n_Baykonur' nan]\n"
     ]
    }
   ],
   "source": [
    "categorical_columns_with_null = []\n",
    "for col in df:\n",
    "    if len(df[col].unique()) < 10 and df[col].isna().sum() > 0:\n",
    "        print(col, df[col].unique())\n",
    "        categorical_columns_with_null.append(col)"
   ],
   "metadata": {
    "collapsed": false,
    "pycharm": {
     "name": "#%%\n"
    }
   }
  },
  {
   "cell_type": "code",
   "execution_count": 16,
   "outputs": [
    {
     "data": {
      "text/plain": "built_type        341\ncondition        2019\nbathrooms        1936\nbalcony          2311\nexchange         3084\nfurniture        4316\nparking          2435\nphone            4184\nfloor            3026\ndoor             2632\nbalcony_glass    2731\nex_dormetory      144\ninernet          3677\ndistrict          306\ndtype: int64"
     },
     "execution_count": 16,
     "metadata": {},
     "output_type": "execute_result"
    }
   ],
   "source": [
    "df[categorical_columns_with_null].isna().sum()"
   ],
   "metadata": {
    "collapsed": false,
    "pycharm": {
     "name": "#%%\n"
    }
   }
  },
  {
   "cell_type": "markdown",
   "source": [
    "Заменяем их на самые частые значения"
   ],
   "metadata": {
    "collapsed": false,
    "pycharm": {
     "name": "#%% md\n"
    }
   }
  },
  {
   "cell_type": "code",
   "execution_count": 17,
   "outputs": [
    {
     "name": "stdout",
     "output_type": "stream",
     "text": [
      "built_type монолитный\n",
      "condition хорошее\n",
      "bathrooms совмещенный\n",
      "balcony лоджия\n",
      "exchange Не интересует\n",
      "furniture полностью\n",
      "parking паркинг\n",
      "phone есть возможность подключения\n",
      "floor ламинат\n",
      "door металлическая\n",
      "balcony_glass да\n",
      "ex_dormetory нет\n",
      "inernet ADSL\n",
      "district Esilyskiy_r-n\n"
     ]
    }
   ],
   "source": [
    "for field in categorical_columns_with_null:\n",
    "    print(field, df[field].mode()[0])\n",
    "    df[field].fillna(df[field].mode()[0], inplace=True)"
   ],
   "metadata": {
    "collapsed": false,
    "pycharm": {
     "name": "#%%\n"
    }
   }
  },
  {
   "cell_type": "markdown",
   "source": [
    "Итог:"
   ],
   "metadata": {
    "collapsed": false,
    "pycharm": {
     "name": "#%% md\n"
    }
   }
  },
  {
   "cell_type": "code",
   "execution_count": 18,
   "outputs": [
    {
     "data": {
      "text/plain": "built_type       0\ncondition        0\nbathrooms        0\nbalcony          0\nexchange         0\nfurniture        0\nparking          0\nphone            0\nfloor            0\ndoor             0\nbalcony_glass    0\nex_dormetory     0\ninernet          0\ndistrict         0\ndtype: int64"
     },
     "execution_count": 18,
     "metadata": {},
     "output_type": "execute_result"
    }
   ],
   "source": [
    "df[categorical_columns_with_null].isna().sum()\n"
   ],
   "metadata": {
    "collapsed": false,
    "pycharm": {
     "name": "#%%\n"
    }
   }
  },
  {
   "cell_type": "markdown",
   "source": [
    "### 3.3 Замена столбцов, с текстовыми значениями"
   ],
   "metadata": {
    "collapsed": false
   }
  },
  {
   "cell_type": "code",
   "execution_count": 19,
   "outputs": [],
   "source": [
    "string_columns_with_null = []\n",
    "for col in df:\n",
    "    if len(df[col].unique()) > 10 and df[col].isna().sum() > 0:\n",
    "        #print(col, df[col].unique())\n",
    "        string_columns_with_null.append(col)"
   ],
   "metadata": {
    "collapsed": false,
    "pycharm": {
     "name": "#%%\n"
    }
   }
  },
  {
   "cell_type": "code",
   "execution_count": 20,
   "outputs": [
    {
     "data": {
      "text/plain": "residance    1496\ndtype: int64"
     },
     "execution_count": 20,
     "metadata": {},
     "output_type": "execute_result"
    }
   ],
   "source": [
    "df[string_columns_with_null].isna().sum()"
   ],
   "metadata": {
    "collapsed": false,
    "pycharm": {
     "name": "#%%\n"
    }
   }
  },
  {
   "cell_type": "code",
   "execution_count": 21,
   "outputs": [],
   "source": [
    "for field in string_columns_with_null:\n",
    "    df[field].fillna('Не указан', inplace=True)"
   ],
   "metadata": {
    "collapsed": false,
    "pycharm": {
     "name": "#%%\n"
    }
   }
  },
  {
   "cell_type": "markdown",
   "source": [
    "Итог:"
   ],
   "metadata": {
    "collapsed": false
   }
  },
  {
   "cell_type": "code",
   "execution_count": 22,
   "outputs": [
    {
     "data": {
      "text/plain": "built_type            0\nyear_built            0\nflour                 0\narea                  0\ncondition             0\nbathrooms             0\nbalcony               0\nexchange              0\nfurniture             0\nceil                  0\nparking               0\nresidance             0\nphone                 0\nfloor                 0\ndoor                  0\nbalcony_glass         0\nex_dormetory          0\ninernet               0\nuserType              0\nrooms                 0\nlat                   0\nlon                   0\ndistrict              0\nstreet                0\nprice                 0\nmax_flours            0\nhas_intercom          0\nhas_video_control     0\nhas_guard             0\nhas_alarm             0\nhas_video_intercom    0\nhas_concierge         0\nhas_bars              0\ndtype: int64"
     },
     "execution_count": 22,
     "metadata": {},
     "output_type": "execute_result"
    }
   ],
   "source": [
    "df.isna().sum()"
   ],
   "metadata": {
    "collapsed": false,
    "pycharm": {
     "name": "#%%\n"
    }
   }
  },
  {
   "cell_type": "markdown",
   "source": [
    "## 4. Назначение весов, числовых значений\n",
    "\n",
    "Определяем вес каждой фичи в числовом формате\n",
    "\n",
    "### 4.1 Бинарные значения\n",
    "Столбцы, с двоичными значениями:\n"
   ],
   "metadata": {
    "collapsed": false,
    "pycharm": {
     "name": "#%% md\n"
    }
   }
  },
  {
   "cell_type": "code",
   "execution_count": 23,
   "outputs": [
    {
     "name": "stdout",
     "output_type": "stream",
     "text": [
      "exchange ['Не интересует' 'Возможен обмен']\n",
      "balcony_glass ['да' 'нет']\n",
      "ex_dormetory ['нет' 'да']\n",
      "has_intercom ['да' 'нет']\n",
      "has_video_control ['да' 'нет']\n",
      "has_guard ['нет' 'да']\n",
      "has_alarm ['нет' 'да']\n",
      "has_video_intercom ['нет' 'да']\n",
      "has_concierge ['нет' 'да']\n",
      "has_bars ['нет' 'да']\n"
     ]
    }
   ],
   "source": [
    "binary_cols = []\n",
    "for col in df:\n",
    "    if len(df[col].unique()) < 3:\n",
    "        binary_cols.append(col)\n",
    "        print(col, df[col].unique())\n"
   ],
   "metadata": {
    "collapsed": false,
    "pycharm": {
     "name": "#%%\n"
    }
   }
  },
  {
   "cell_type": "markdown",
   "source": [
    "Преобразуем данные, формата \"Да/Нет\" в 1/0 соответственно.\n"
   ],
   "metadata": {
    "collapsed": false,
    "pycharm": {
     "name": "#%% md\n"
    }
   }
  },
  {
   "cell_type": "code",
   "execution_count": 24,
   "outputs": [
    {
     "data": {
      "text/plain": "      exchange  balcony_glass  ex_dormetory  has_intercom  has_video_control  \\\n0            0              1             0             1                  1   \n1            0              1             0             1                  1   \n2            0              1             0             0                  1   \n3            0              1             0             0                  0   \n4            0              1             0             1                  1   \n...        ...            ...           ...           ...                ...   \n5781         0              1             0             0                  0   \n5782         0              1             0             0                  0   \n5783         0              1             0             0                  0   \n5784         0              1             0             0                  0   \n5785         0              1             0             1                  1   \n\n      has_guard  has_alarm  has_video_intercom  has_concierge  has_bars  \n0             0          0                   0              0         0  \n1             0          0                   0              0         0  \n2             1          0                   0              0         0  \n3             0          0                   0              0         0  \n4             0          1                   0              0         0  \n...         ...        ...                 ...            ...       ...  \n5781          0          0                   0              0         0  \n5782          0          0                   0              0         0  \n5783          0          0                   0              0         0  \n5784          0          0                   0              0         0  \n5785          1          1                   1              1         0  \n\n[5786 rows x 10 columns]",
      "text/html": "<div>\n<style scoped>\n    .dataframe tbody tr th:only-of-type {\n        vertical-align: middle;\n    }\n\n    .dataframe tbody tr th {\n        vertical-align: top;\n    }\n\n    .dataframe thead th {\n        text-align: right;\n    }\n</style>\n<table border=\"1\" class=\"dataframe\">\n  <thead>\n    <tr style=\"text-align: right;\">\n      <th></th>\n      <th>exchange</th>\n      <th>balcony_glass</th>\n      <th>ex_dormetory</th>\n      <th>has_intercom</th>\n      <th>has_video_control</th>\n      <th>has_guard</th>\n      <th>has_alarm</th>\n      <th>has_video_intercom</th>\n      <th>has_concierge</th>\n      <th>has_bars</th>\n    </tr>\n  </thead>\n  <tbody>\n    <tr>\n      <th>0</th>\n      <td>0</td>\n      <td>1</td>\n      <td>0</td>\n      <td>1</td>\n      <td>1</td>\n      <td>0</td>\n      <td>0</td>\n      <td>0</td>\n      <td>0</td>\n      <td>0</td>\n    </tr>\n    <tr>\n      <th>1</th>\n      <td>0</td>\n      <td>1</td>\n      <td>0</td>\n      <td>1</td>\n      <td>1</td>\n      <td>0</td>\n      <td>0</td>\n      <td>0</td>\n      <td>0</td>\n      <td>0</td>\n    </tr>\n    <tr>\n      <th>2</th>\n      <td>0</td>\n      <td>1</td>\n      <td>0</td>\n      <td>0</td>\n      <td>1</td>\n      <td>1</td>\n      <td>0</td>\n      <td>0</td>\n      <td>0</td>\n      <td>0</td>\n    </tr>\n    <tr>\n      <th>3</th>\n      <td>0</td>\n      <td>1</td>\n      <td>0</td>\n      <td>0</td>\n      <td>0</td>\n      <td>0</td>\n      <td>0</td>\n      <td>0</td>\n      <td>0</td>\n      <td>0</td>\n    </tr>\n    <tr>\n      <th>4</th>\n      <td>0</td>\n      <td>1</td>\n      <td>0</td>\n      <td>1</td>\n      <td>1</td>\n      <td>0</td>\n      <td>1</td>\n      <td>0</td>\n      <td>0</td>\n      <td>0</td>\n    </tr>\n    <tr>\n      <th>...</th>\n      <td>...</td>\n      <td>...</td>\n      <td>...</td>\n      <td>...</td>\n      <td>...</td>\n      <td>...</td>\n      <td>...</td>\n      <td>...</td>\n      <td>...</td>\n      <td>...</td>\n    </tr>\n    <tr>\n      <th>5781</th>\n      <td>0</td>\n      <td>1</td>\n      <td>0</td>\n      <td>0</td>\n      <td>0</td>\n      <td>0</td>\n      <td>0</td>\n      <td>0</td>\n      <td>0</td>\n      <td>0</td>\n    </tr>\n    <tr>\n      <th>5782</th>\n      <td>0</td>\n      <td>1</td>\n      <td>0</td>\n      <td>0</td>\n      <td>0</td>\n      <td>0</td>\n      <td>0</td>\n      <td>0</td>\n      <td>0</td>\n      <td>0</td>\n    </tr>\n    <tr>\n      <th>5783</th>\n      <td>0</td>\n      <td>1</td>\n      <td>0</td>\n      <td>0</td>\n      <td>0</td>\n      <td>0</td>\n      <td>0</td>\n      <td>0</td>\n      <td>0</td>\n      <td>0</td>\n    </tr>\n    <tr>\n      <th>5784</th>\n      <td>0</td>\n      <td>1</td>\n      <td>0</td>\n      <td>0</td>\n      <td>0</td>\n      <td>0</td>\n      <td>0</td>\n      <td>0</td>\n      <td>0</td>\n      <td>0</td>\n    </tr>\n    <tr>\n      <th>5785</th>\n      <td>0</td>\n      <td>1</td>\n      <td>0</td>\n      <td>1</td>\n      <td>1</td>\n      <td>1</td>\n      <td>1</td>\n      <td>1</td>\n      <td>1</td>\n      <td>0</td>\n    </tr>\n  </tbody>\n</table>\n<p>5786 rows × 10 columns</p>\n</div>"
     },
     "execution_count": 24,
     "metadata": {},
     "output_type": "execute_result"
    }
   ],
   "source": [
    "for field in binary_cols:\n",
    "    df[field] = df[field].apply(check_true).astype('int64')\n",
    "\n",
    "df[binary_cols]"
   ],
   "metadata": {
    "collapsed": false,
    "pycharm": {
     "name": "#%%\n"
    }
   }
  },
  {
   "cell_type": "markdown",
   "source": [
    "### 4.2 Категориальные значения\n",
    "\n",
    "Сортируем категории в зависимости от того, насколько хорошо они влияют на стоимость.\n",
    "Например, панельные дома в среднем стоят 23 миллиона, а монолитные 43 млн.\n",
    "Соответственно присваиваем им значения:\n",
    "1. у панельного 0\n",
    "2. у кирпичного 1\n",
    "3. у иного 2\n",
    "4. у монолитного 3"
   ],
   "metadata": {
    "collapsed": false,
    "pycharm": {
     "name": "#%% md\n"
    }
   }
  },
  {
   "cell_type": "code",
   "execution_count": 25,
   "outputs": [
    {
     "data": {
      "text/plain": "built_type\nпанельный     2.300764e+07\nкирпичный     3.329811e+07\nиное          3.730618e+07\nмонолитный    4.324374e+07\nName: price, dtype: float64"
     },
     "execution_count": 25,
     "metadata": {},
     "output_type": "execute_result"
    }
   ],
   "source": [
    "df.price.groupby(df['built_type']).mean().sort_values()\n"
   ],
   "metadata": {
    "collapsed": false,
    "pycharm": {
     "name": "#%%\n"
    }
   }
  },
  {
   "cell_type": "code",
   "execution_count": 26,
   "outputs": [
    {
     "name": "stdout",
     "output_type": "stream",
     "text": [
      "built_type {'панельный': 0, 'кирпичный': 1, 'иное': 2, 'монолитный': 3}\n",
      "condition {'требует ремонта': 0, 'среднее': 1, 'черновая отделка': 2, 'свободная планировка': 3, 'хорошее': 4}\n",
      "bathrooms {'нет': 0, 'совмещенный': 1, 'раздельный': 2, '2 с/у и более': 3}\n",
      "balcony {'балкон': 0, 'лоджия': 1, 'балкон и лоджия': 2, 'несколько балконов или лоджий': 3}\n",
      "furniture {'без мебели': 0, 'полностью': 1, 'частично': 2}\n",
      "parking {'рядом охраняемая стоянка': 0, 'паркинг': 1, 'гараж': 2}\n",
      "residance {'Арай-1': 723, 'Mangilik El': 724, 'Аристократ': 725, 'Арай-2': 726, 'Жарык': 727, 'Грин виладж': 728, 'parkhouse': 729, 'Baisanat': 730, 'Арман': 731, 'Rixos Khan Shatyr Residences': 732}\n",
      "phone {'нет': 0, 'есть возможность подключения': 1, 'отдельный': 2, 'блокиратор': 3}\n",
      "floor {'линолеум': 0, 'плитка': 1, 'пробковый': 2, 'ламинат': 3, 'ковролан': 4, 'дерево': 5, 'паркет': 6}\n",
      "door {'металлическая': 0, 'деревянная': 1, 'бронированная': 2}\n",
      "inernet {'проводной': 0, 'через TV кабель': 1, 'ADSL': 2, 'оптика': 3}\n",
      "userType {'owner': 0, 'specialist': 1, 'complex': 2, 'company': 3}\n",
      "district {'Saryarka_r-n': 0, 'r-n_Baykonur': 1, 'Almaty_r-n': 2, 'Esilyskiy_r-n': 3}\n",
      "street {'Zhasuan': 954, 'Sharly_de_Golly': 955, 'Mkr_Komsomolyskiy-2,_Domalak_Ana': 956, 'Қarashash_ana': 957, 'Sharly_de_gollya': 958, 'Tumar_Hanym': 959, 'Karashash_ana': 960, 'Aray': 961, 'Mkr_Komsomolyskiy-2,_Karashash_Ana': 962, 'Karashash_Ana': 963}\n"
     ]
    }
   ],
   "source": [
    "numeric_values = {}\n",
    "for field in df.select_dtypes(include=['object']):\n",
    "    temp_val = {}\n",
    "    for i, val in enumerate(df.price.groupby(df[field]).mean().sort_values().keys().values):\n",
    "        temp_val[val]=i\n",
    "    numeric_values[field] = temp_val\n",
    "\n",
    "# Вывод 10 самых дорогих\n",
    "for k,v in numeric_values.items():\n",
    "    print(k, dict(list(v.items())[-10:]))"
   ],
   "metadata": {
    "collapsed": false,
    "pycharm": {
     "name": "#%%\n"
    }
   }
  },
  {
   "cell_type": "code",
   "execution_count": 27,
   "outputs": [],
   "source": [
    "for field in df.select_dtypes(include=['object']):\n",
    "    df[field] = df[field].apply(lambda x: numeric_values.get(field).get(x)).astype('int32')\n"
   ],
   "metadata": {
    "collapsed": false,
    "pycharm": {
     "name": "#%%\n"
    }
   }
  },
  {
   "cell_type": "markdown",
   "source": [
    "Итог:"
   ],
   "metadata": {
    "collapsed": false,
    "pycharm": {
     "name": "#%% md\n"
    }
   }
  },
  {
   "cell_type": "code",
   "execution_count": 28,
   "outputs": [
    {
     "data": {
      "text/plain": "built_type              int32\nyear_built              int64\nflour                   Int64\narea                  float64\ncondition               int32\nbathrooms               int32\nbalcony                 int32\nexchange                int64\nfurniture               int32\nceil                  Float64\nparking                 int32\nresidance               int32\nphone                   int32\nfloor                   int32\ndoor                    int32\nbalcony_glass           int64\nex_dormetory            int64\ninernet                 int32\nuserType                int32\nrooms                   int64\nlat                   float64\nlon                   float64\ndistrict                int32\nstreet                  int32\nprice                   int64\nmax_flours              Int64\nhas_intercom            int64\nhas_video_control       int64\nhas_guard               int64\nhas_alarm               int64\nhas_video_intercom      int64\nhas_concierge           int64\nhas_bars                int64\ndtype: object"
     },
     "execution_count": 28,
     "metadata": {},
     "output_type": "execute_result"
    }
   ],
   "source": [
    "df.dtypes"
   ],
   "metadata": {
    "collapsed": false,
    "pycharm": {
     "name": "#%%\n"
    }
   }
  },
  {
   "cell_type": "markdown",
   "source": [
    "## 5. Добавление дополнительных столбцов\n",
    "\n",
    "### 5.1 Цена за кв. м"
   ],
   "metadata": {
    "collapsed": false,
    "pycharm": {
     "name": "#%% md\n"
    }
   }
  },
  {
   "cell_type": "code",
   "execution_count": 29,
   "outputs": [
    {
     "data": {
      "text/plain": "0       404040\n1       414847\n2       599999\n3       500000\n4       483425\n         ...  \n5781    532475\n5782    474358\n5783    620000\n5784    383333\n5785    872000\nName: sqr_price, Length: 5786, dtype: Int64"
     },
     "execution_count": 29,
     "metadata": {},
     "output_type": "execute_result"
    }
   ],
   "source": [
    "df['sqr_price'] = np.floor(df['price'] / df['area']).astype('Int64')\n",
    "df['sqr_price']"
   ],
   "metadata": {
    "collapsed": false,
    "pycharm": {
     "name": "#%%\n"
    }
   }
  },
  {
   "cell_type": "markdown",
   "source": [
    "## 6. Исправление ошибочных данных\n",
    "### 6.1 Забыли запятую при указании высоты"
   ],
   "metadata": {
    "collapsed": false
   }
  },
  {
   "cell_type": "code",
   "execution_count": 30,
   "outputs": [
    {
     "name": "stdout",
     "output_type": "stream",
     "text": [
      "До: 66      27.0\n",
      "3276    28.0\n",
      "3917    28.0\n",
      "5653    28.0\n",
      "Name: ceil, dtype: Float64\n",
      "После: Series([], Name: ceil, dtype: Float64)\n"
     ]
    }
   ],
   "source": [
    "print(f\"До: {df['ceil'][df['ceil']>5]}\")\n",
    "df['ceil'][df['ceil']>5] = df['ceil'][df['ceil']>5]/10\n",
    "print(f\"После: {df['ceil'][df['ceil']>5]}\")"
   ],
   "metadata": {
    "collapsed": false,
    "pycharm": {
     "name": "#%%\n"
    }
   }
  },
  {
   "cell_type": "markdown",
   "source": [
    "~~### 6.2 Указали лишний ноль в цене~~"
   ],
   "metadata": {
    "collapsed": false,
    "pycharm": {
     "name": "#%% md\n"
    }
   }
  },
  {
   "cell_type": "code",
   "execution_count": 31,
   "outputs": [
    {
     "data": {
      "text/plain": "count           5786.0\nmean     506941.124957\nstd      156098.928165\nmin           137169.0\n25%           411764.0\n50%           475385.5\n75%           566037.0\nmax          2068965.0\nName: sqr_price, dtype: Float64"
     },
     "execution_count": 31,
     "metadata": {},
     "output_type": "execute_result"
    }
   ],
   "source": [
    "df.sqr_price.describe()"
   ],
   "metadata": {
    "collapsed": false,
    "pycharm": {
     "name": "#%%\n"
    }
   }
  },
  {
   "cell_type": "markdown",
   "source": [
    "## 7. Удаление выбросов\n",
    "### 7.1 Высота потолков"
   ],
   "metadata": {
    "collapsed": false,
    "pycharm": {
     "name": "#%% md\n"
    }
   }
  },
  {
   "cell_type": "code",
   "execution_count": 32,
   "outputs": [
    {
     "data": {
      "text/plain": "<Figure size 640x480 with 1 Axes>",
      "image/png": "[encoded data removed]"
     },
     "metadata": {},
     "output_type": "display_data"
    }
   ],
   "source": [
    "plt.boxplot(df.ceil)\n",
    "plt.show()"
   ],
   "metadata": {
    "collapsed": false,
    "pycharm": {
     "name": "#%%\n"
    }
   }
  },
  {
   "cell_type": "markdown",
   "source": [
    "### 7.2 Площадь"
   ],
   "metadata": {
    "collapsed": false,
    "pycharm": {
     "name": "#%% md\n"
    }
   }
  },
  {
   "cell_type": "code",
   "execution_count": 33,
   "outputs": [
    {
     "data": {
      "text/plain": "<Figure size 640x480 with 1 Axes>",
      "image/png": "[encoded data removed]"
     },
     "metadata": {},
     "output_type": "display_data"
    },
    {
     "data": {
      "text/plain": "count    5786.000000\nmean       69.837857\nstd        45.288339\nmin        11.000000\n25%        42.000000\n50%        59.000000\n75%        82.000000\nmax       800.000000\nName: area, dtype: float64"
     },
     "execution_count": 33,
     "metadata": {},
     "output_type": "execute_result"
    }
   ],
   "source": [
    "plt.boxplot(df.area)\n",
    "plt.show()\n",
    "df.area.describe()"
   ],
   "metadata": {
    "collapsed": false,
    "pycharm": {
     "name": "#%%\n"
    }
   }
  },
  {
   "cell_type": "code",
   "execution_count": 34,
   "outputs": [
    {
     "data": {
      "text/plain": "      built_type  year_built  flour   area  condition  bathrooms  balcony  \\\n171            1        2013      5  350.0          4          3        3   \n1331           1        2018      3  365.0          4          1        1   \n1917           3        2014      2  500.0          4          1        1   \n2118           1        2000      6  356.3          4          3        2   \n2205           3        2006     22  329.8          4          1        0   \n2473           1        2012      4  365.0          4          3        3   \n2750           3        2016     20  650.0          4          1        1   \n2863           3        2017      5  355.0          4          3        2   \n3412           1        2015      7  535.0          4          1        1   \n3664           3        2005     15  413.9          4          1        1   \n3958           1        2011      1  400.0          4          3        1   \n4140           1        2014      4  401.0          4          1        1   \n4221           1        2000      6  356.3          4          3        3   \n4416           3        2010      5  700.0          4          3        3   \n4496           3        2018      2  415.0          4          1        1   \n4615           1        2006      2  320.0          4          3        0   \n4846           3        2006      8  800.0          4          1        1   \n5236           3        2017     20  650.0          4          1        1   \n5514           3        2015      7  320.0          4          3        1   \n\n      exchange  furniture  ceil  ...      price  max_flours  has_intercom  \\\n171          0          1   3.2  ...  195000000           7             1   \n1331         1          1   3.0  ...  170000000           9             0   \n1917         0          1   3.2  ...  400000000           5             0   \n2118         0          1   3.0  ...  189500000           7             0   \n2205         0          2   3.0  ...  148500000          22             0   \n2473         0          2   3.2  ...  195000000           7             0   \n2750         0          1   3.0  ...  560000000          22             0   \n2863         0          1   2.7  ...  285000000           6             0   \n3412         0          1   3.0  ...  230000000           8             0   \n3664         0          1   3.0  ...  340000000          16             0   \n3958         1          1   3.3  ...  420000000           2             0   \n4140         0          1   3.2  ...  230000000           5             0   \n4221         0          2   3.0  ...  210000000           7             0   \n4416         0          1   3.2  ...  730000000           6             1   \n4496         0          1   3.0  ...  350000000           9             0   \n4615         1          1   2.8  ...  180000000           2             1   \n4846         0          1   2.7  ...  500000000          16             0   \n5236         0          1   3.5  ...  560000000          23             0   \n5514         0          1   3.2  ...  400000000           7             0   \n\n      has_video_control  has_guard  has_alarm  has_video_intercom  \\\n171                   1          0          1                   1   \n1331                  0          0          0                   0   \n1917                  0          0          0                   0   \n2118                  0          0          0                   0   \n2205                  1          1          0                   0   \n2473                  0          0          0                   0   \n2750                  0          0          0                   0   \n2863                  0          0          0                   0   \n3412                  0          0          0                   0   \n3664                  0          0          0                   0   \n3958                  0          1          0                   0   \n4140                  0          0          0                   0   \n4221                  0          0          0                   0   \n4416                  1          1          1                   1   \n4496                  0          0          0                   0   \n4615                  1          1          1                   1   \n4846                  0          0          0                   0   \n5236                  0          0          0                   0   \n5514                  0          0          0                   0   \n\n      has_concierge  has_bars  sqr_price  \n171               0         0     557142  \n1331              0         0     465753  \n1917              0         0     800000  \n2118              0         0     531855  \n2205              1         0     450272  \n2473              0         0     534246  \n2750              0         0     861538  \n2863              0         0     802816  \n3412              0         0     429906  \n3664              0         0     821454  \n3958              1         1    1050000  \n4140              0         0     573566  \n4221              0         0     589390  \n4416              0         0    1042857  \n4496              0         0     843373  \n4615              0         1     562500  \n4846              0         0     625000  \n5236              0         0     861538  \n5514              0         0    1250000  \n\n[19 rows x 34 columns]",
      "text/html": "<div>\n<style scoped>\n    .dataframe tbody tr th:only-of-type {\n        vertical-align: middle;\n    }\n\n    .dataframe tbody tr th {\n        vertical-align: top;\n    }\n\n    .dataframe thead th {\n        text-align: right;\n    }\n</style>\n<table border=\"1\" class=\"dataframe\">\n  <thead>\n    <tr style=\"text-align: right;\">\n      <th></th>\n      <th>built_type</th>\n      <th>year_built</th>\n      <th>flour</th>\n      <th>area</th>\n      <th>condition</th>\n      <th>bathrooms</th>\n      <th>balcony</th>\n      <th>exchange</th>\n      <th>furniture</th>\n      <th>ceil</th>\n      <th>...</th>\n      <th>price</th>\n      <th>max_flours</th>\n      <th>has_intercom</th>\n      <th>has_video_control</th>\n      <th>has_guard</th>\n      <th>has_alarm</th>\n      <th>has_video_intercom</th>\n      <th>has_concierge</th>\n      <th>has_bars</th>\n      <th>sqr_price</th>\n    </tr>\n  </thead>\n  <tbody>\n    <tr>\n      <th>171</th>\n      <td>1</td>\n      <td>2013</td>\n      <td>5</td>\n      <td>350.0</td>\n      <td>4</td>\n      <td>3</td>\n      <td>3</td>\n      <td>0</td>\n      <td>1</td>\n      <td>3.2</td>\n      <td>...</td>\n      <td>195000000</td>\n      <td>7</td>\n      <td>1</td>\n      <td>1</td>\n      <td>0</td>\n      <td>1</td>\n      <td>1</td>\n      <td>0</td>\n      <td>0</td>\n      <td>557142</td>\n    </tr>\n    <tr>\n      <th>1331</th>\n      <td>1</td>\n      <td>2018</td>\n      <td>3</td>\n      <td>365.0</td>\n      <td>4</td>\n      <td>1</td>\n      <td>1</td>\n      <td>1</td>\n      <td>1</td>\n      <td>3.0</td>\n      <td>...</td>\n      <td>170000000</td>\n      <td>9</td>\n      <td>0</td>\n      <td>0</td>\n      <td>0</td>\n      <td>0</td>\n      <td>0</td>\n      <td>0</td>\n      <td>0</td>\n      <td>465753</td>\n    </tr>\n    <tr>\n      <th>1917</th>\n      <td>3</td>\n      <td>2014</td>\n      <td>2</td>\n      <td>500.0</td>\n      <td>4</td>\n      <td>1</td>\n      <td>1</td>\n      <td>0</td>\n      <td>1</td>\n      <td>3.2</td>\n      <td>...</td>\n      <td>400000000</td>\n      <td>5</td>\n      <td>0</td>\n      <td>0</td>\n      <td>0</td>\n      <td>0</td>\n      <td>0</td>\n      <td>0</td>\n      <td>0</td>\n      <td>800000</td>\n    </tr>\n    <tr>\n      <th>2118</th>\n      <td>1</td>\n      <td>2000</td>\n      <td>6</td>\n      <td>356.3</td>\n      <td>4</td>\n      <td>3</td>\n      <td>2</td>\n      <td>0</td>\n      <td>1</td>\n      <td>3.0</td>\n      <td>...</td>\n      <td>189500000</td>\n      <td>7</td>\n      <td>0</td>\n      <td>0</td>\n      <td>0</td>\n      <td>0</td>\n      <td>0</td>\n      <td>0</td>\n      <td>0</td>\n      <td>531855</td>\n    </tr>\n    <tr>\n      <th>2205</th>\n      <td>3</td>\n      <td>2006</td>\n      <td>22</td>\n      <td>329.8</td>\n      <td>4</td>\n      <td>1</td>\n      <td>0</td>\n      <td>0</td>\n      <td>2</td>\n      <td>3.0</td>\n      <td>...</td>\n      <td>148500000</td>\n      <td>22</td>\n      <td>0</td>\n      <td>1</td>\n      <td>1</td>\n      <td>0</td>\n      <td>0</td>\n      <td>1</td>\n      <td>0</td>\n      <td>450272</td>\n    </tr>\n    <tr>\n      <th>2473</th>\n      <td>1</td>\n      <td>2012</td>\n      <td>4</td>\n      <td>365.0</td>\n      <td>4</td>\n      <td>3</td>\n      <td>3</td>\n      <td>0</td>\n      <td>2</td>\n      <td>3.2</td>\n      <td>...</td>\n      <td>195000000</td>\n      <td>7</td>\n      <td>0</td>\n      <td>0</td>\n      <td>0</td>\n      <td>0</td>\n      <td>0</td>\n      <td>0</td>\n      <td>0</td>\n      <td>534246</td>\n    </tr>\n    <tr>\n      <th>2750</th>\n      <td>3</td>\n      <td>2016</td>\n      <td>20</td>\n      <td>650.0</td>\n      <td>4</td>\n      <td>1</td>\n      <td>1</td>\n      <td>0</td>\n      <td>1</td>\n      <td>3.0</td>\n      <td>...</td>\n      <td>560000000</td>\n      <td>22</td>\n      <td>0</td>\n      <td>0</td>\n      <td>0</td>\n      <td>0</td>\n      <td>0</td>\n      <td>0</td>\n      <td>0</td>\n      <td>861538</td>\n    </tr>\n    <tr>\n      <th>2863</th>\n      <td>3</td>\n      <td>2017</td>\n      <td>5</td>\n      <td>355.0</td>\n      <td>4</td>\n      <td>3</td>\n      <td>2</td>\n      <td>0</td>\n      <td>1</td>\n      <td>2.7</td>\n      <td>...</td>\n      <td>285000000</td>\n      <td>6</td>\n      <td>0</td>\n      <td>0</td>\n      <td>0</td>\n      <td>0</td>\n      <td>0</td>\n      <td>0</td>\n      <td>0</td>\n      <td>802816</td>\n    </tr>\n    <tr>\n      <th>3412</th>\n      <td>1</td>\n      <td>2015</td>\n      <td>7</td>\n      <td>535.0</td>\n      <td>4</td>\n      <td>1</td>\n      <td>1</td>\n      <td>0</td>\n      <td>1</td>\n      <td>3.0</td>\n      <td>...</td>\n      <td>230000000</td>\n      <td>8</td>\n      <td>0</td>\n      <td>0</td>\n      <td>0</td>\n      <td>0</td>\n      <td>0</td>\n      <td>0</td>\n      <td>0</td>\n      <td>429906</td>\n    </tr>\n    <tr>\n      <th>3664</th>\n      <td>3</td>\n      <td>2005</td>\n      <td>15</td>\n      <td>413.9</td>\n      <td>4</td>\n      <td>1</td>\n      <td>1</td>\n      <td>0</td>\n      <td>1</td>\n      <td>3.0</td>\n      <td>...</td>\n      <td>340000000</td>\n      <td>16</td>\n      <td>0</td>\n      <td>0</td>\n      <td>0</td>\n      <td>0</td>\n      <td>0</td>\n      <td>0</td>\n      <td>0</td>\n      <td>821454</td>\n    </tr>\n    <tr>\n      <th>3958</th>\n      <td>1</td>\n      <td>2011</td>\n      <td>1</td>\n      <td>400.0</td>\n      <td>4</td>\n      <td>3</td>\n      <td>1</td>\n      <td>1</td>\n      <td>1</td>\n      <td>3.3</td>\n      <td>...</td>\n      <td>420000000</td>\n      <td>2</td>\n      <td>0</td>\n      <td>0</td>\n      <td>1</td>\n      <td>0</td>\n      <td>0</td>\n      <td>1</td>\n      <td>1</td>\n      <td>1050000</td>\n    </tr>\n    <tr>\n      <th>4140</th>\n      <td>1</td>\n      <td>2014</td>\n      <td>4</td>\n      <td>401.0</td>\n      <td>4</td>\n      <td>1</td>\n      <td>1</td>\n      <td>0</td>\n      <td>1</td>\n      <td>3.2</td>\n      <td>...</td>\n      <td>230000000</td>\n      <td>5</td>\n      <td>0</td>\n      <td>0</td>\n      <td>0</td>\n      <td>0</td>\n      <td>0</td>\n      <td>0</td>\n      <td>0</td>\n      <td>573566</td>\n    </tr>\n    <tr>\n      <th>4221</th>\n      <td>1</td>\n      <td>2000</td>\n      <td>6</td>\n      <td>356.3</td>\n      <td>4</td>\n      <td>3</td>\n      <td>3</td>\n      <td>0</td>\n      <td>2</td>\n      <td>3.0</td>\n      <td>...</td>\n      <td>210000000</td>\n      <td>7</td>\n      <td>0</td>\n      <td>0</td>\n      <td>0</td>\n      <td>0</td>\n      <td>0</td>\n      <td>0</td>\n      <td>0</td>\n      <td>589390</td>\n    </tr>\n    <tr>\n      <th>4416</th>\n      <td>3</td>\n      <td>2010</td>\n      <td>5</td>\n      <td>700.0</td>\n      <td>4</td>\n      <td>3</td>\n      <td>3</td>\n      <td>0</td>\n      <td>1</td>\n      <td>3.2</td>\n      <td>...</td>\n      <td>730000000</td>\n      <td>6</td>\n      <td>1</td>\n      <td>1</td>\n      <td>1</td>\n      <td>1</td>\n      <td>1</td>\n      <td>0</td>\n      <td>0</td>\n      <td>1042857</td>\n    </tr>\n    <tr>\n      <th>4496</th>\n      <td>3</td>\n      <td>2018</td>\n      <td>2</td>\n      <td>415.0</td>\n      <td>4</td>\n      <td>1</td>\n      <td>1</td>\n      <td>0</td>\n      <td>1</td>\n      <td>3.0</td>\n      <td>...</td>\n      <td>350000000</td>\n      <td>9</td>\n      <td>0</td>\n      <td>0</td>\n      <td>0</td>\n      <td>0</td>\n      <td>0</td>\n      <td>0</td>\n      <td>0</td>\n      <td>843373</td>\n    </tr>\n    <tr>\n      <th>4615</th>\n      <td>1</td>\n      <td>2006</td>\n      <td>2</td>\n      <td>320.0</td>\n      <td>4</td>\n      <td>3</td>\n      <td>0</td>\n      <td>1</td>\n      <td>1</td>\n      <td>2.8</td>\n      <td>...</td>\n      <td>180000000</td>\n      <td>2</td>\n      <td>1</td>\n      <td>1</td>\n      <td>1</td>\n      <td>1</td>\n      <td>1</td>\n      <td>0</td>\n      <td>1</td>\n      <td>562500</td>\n    </tr>\n    <tr>\n      <th>4846</th>\n      <td>3</td>\n      <td>2006</td>\n      <td>8</td>\n      <td>800.0</td>\n      <td>4</td>\n      <td>1</td>\n      <td>1</td>\n      <td>0</td>\n      <td>1</td>\n      <td>2.7</td>\n      <td>...</td>\n      <td>500000000</td>\n      <td>16</td>\n      <td>0</td>\n      <td>0</td>\n      <td>0</td>\n      <td>0</td>\n      <td>0</td>\n      <td>0</td>\n      <td>0</td>\n      <td>625000</td>\n    </tr>\n    <tr>\n      <th>5236</th>\n      <td>3</td>\n      <td>2017</td>\n      <td>20</td>\n      <td>650.0</td>\n      <td>4</td>\n      <td>1</td>\n      <td>1</td>\n      <td>0</td>\n      <td>1</td>\n      <td>3.5</td>\n      <td>...</td>\n      <td>560000000</td>\n      <td>23</td>\n      <td>0</td>\n      <td>0</td>\n      <td>0</td>\n      <td>0</td>\n      <td>0</td>\n      <td>0</td>\n      <td>0</td>\n      <td>861538</td>\n    </tr>\n    <tr>\n      <th>5514</th>\n      <td>3</td>\n      <td>2015</td>\n      <td>7</td>\n      <td>320.0</td>\n      <td>4</td>\n      <td>3</td>\n      <td>1</td>\n      <td>0</td>\n      <td>1</td>\n      <td>3.2</td>\n      <td>...</td>\n      <td>400000000</td>\n      <td>7</td>\n      <td>0</td>\n      <td>0</td>\n      <td>0</td>\n      <td>0</td>\n      <td>0</td>\n      <td>0</td>\n      <td>0</td>\n      <td>1250000</td>\n    </tr>\n  </tbody>\n</table>\n<p>19 rows × 34 columns</p>\n</div>"
     },
     "execution_count": 34,
     "metadata": {},
     "output_type": "execute_result"
    }
   ],
   "source": [
    "df[df.area>300]"
   ],
   "metadata": {
    "collapsed": false,
    "pycharm": {
     "name": "#%%\n"
    }
   }
  },
  {
   "cell_type": "markdown",
   "source": [
    "19 квартир являются выбросами, с площадью более чем 300 кв. м.\n",
    "Убираем их:"
   ],
   "metadata": {
    "collapsed": false,
    "pycharm": {
     "name": "#%% md\n"
    }
   }
  },
  {
   "cell_type": "code",
   "execution_count": 35,
   "outputs": [],
   "source": [
    "df = df[df.area<300]"
   ],
   "metadata": {
    "collapsed": false,
    "pycharm": {
     "name": "#%%\n"
    }
   }
  },
  {
   "cell_type": "markdown",
   "source": [
    "Итог:"
   ],
   "metadata": {
    "collapsed": false,
    "pycharm": {
     "name": "#%% md\n"
    }
   }
  },
  {
   "cell_type": "code",
   "execution_count": 36,
   "outputs": [
    {
     "data": {
      "text/plain": "<Figure size 640x480 with 1 Axes>",
      "image/png": "[encoded data removed]"
     },
     "metadata": {},
     "output_type": "display_data"
    },
    {
     "data": {
      "text/plain": "count    5766.000000\nmean       68.539636\nstd        38.736775\nmin        11.000000\n25%        42.000000\n50%        59.000000\n75%        81.275000\nmax       298.900000\nName: area, dtype: float64"
     },
     "execution_count": 36,
     "metadata": {},
     "output_type": "execute_result"
    }
   ],
   "source": [
    "plt.boxplot(df.area)\n",
    "plt.show()\n",
    "df.area.describe()\n"
   ],
   "metadata": {
    "collapsed": false,
    "pycharm": {
     "name": "#%%\n"
    }
   }
  },
  {
   "cell_type": "markdown",
   "source": [
    "### 7.3 Этаж"
   ],
   "metadata": {
    "collapsed": false
   }
  },
  {
   "cell_type": "code",
   "execution_count": 37,
   "outputs": [
    {
     "data": {
      "text/plain": "<Figure size 640x480 with 1 Axes>",
      "image/png": "[encoded data removed]"
     },
     "metadata": {},
     "output_type": "display_data"
    },
    {
     "data": {
      "text/plain": "count      5766.0\nmean     6.532431\nstd      4.506706\nmin           1.0\n25%           3.0\n50%           5.0\n75%           9.0\nmax          65.0\nName: flour, dtype: Float64"
     },
     "execution_count": 37,
     "metadata": {},
     "output_type": "execute_result"
    }
   ],
   "source": [
    "plt.boxplot(df.flour)\n",
    "plt.show()\n",
    "df.flour.describe()"
   ],
   "metadata": {
    "collapsed": false,
    "pycharm": {
     "name": "#%%\n"
    }
   }
  },
  {
   "cell_type": "code",
   "execution_count": 38,
   "outputs": [
    {
     "data": {
      "text/plain": "      built_type  year_built  flour  area  condition  bathrooms  balcony  \\\n2781           2        1988     65  63.0          4          1        1   \n\n      exchange  furniture  ceil  ...     price  max_flours  has_intercom  \\\n2781         0          1   2.7  ...  19500000           9             0   \n\n      has_video_control  has_guard  has_alarm  has_video_intercom  \\\n2781                  0          0          0                   0   \n\n      has_concierge  has_bars  sqr_price  \n2781              0         0     309523  \n\n[1 rows x 34 columns]",
      "text/html": "<div>\n<style scoped>\n    .dataframe tbody tr th:only-of-type {\n        vertical-align: middle;\n    }\n\n    .dataframe tbody tr th {\n        vertical-align: top;\n    }\n\n    .dataframe thead th {\n        text-align: right;\n    }\n</style>\n<table border=\"1\" class=\"dataframe\">\n  <thead>\n    <tr style=\"text-align: right;\">\n      <th></th>\n      <th>built_type</th>\n      <th>year_built</th>\n      <th>flour</th>\n      <th>area</th>\n      <th>condition</th>\n      <th>bathrooms</th>\n      <th>balcony</th>\n      <th>exchange</th>\n      <th>furniture</th>\n      <th>ceil</th>\n      <th>...</th>\n      <th>price</th>\n      <th>max_flours</th>\n      <th>has_intercom</th>\n      <th>has_video_control</th>\n      <th>has_guard</th>\n      <th>has_alarm</th>\n      <th>has_video_intercom</th>\n      <th>has_concierge</th>\n      <th>has_bars</th>\n      <th>sqr_price</th>\n    </tr>\n  </thead>\n  <tbody>\n    <tr>\n      <th>2781</th>\n      <td>2</td>\n      <td>1988</td>\n      <td>65</td>\n      <td>63.0</td>\n      <td>4</td>\n      <td>1</td>\n      <td>1</td>\n      <td>0</td>\n      <td>1</td>\n      <td>2.7</td>\n      <td>...</td>\n      <td>19500000</td>\n      <td>9</td>\n      <td>0</td>\n      <td>0</td>\n      <td>0</td>\n      <td>0</td>\n      <td>0</td>\n      <td>0</td>\n      <td>0</td>\n      <td>309523</td>\n    </tr>\n  </tbody>\n</table>\n<p>1 rows × 34 columns</p>\n</div>"
     },
     "execution_count": 38,
     "metadata": {},
     "output_type": "execute_result"
    }
   ],
   "source": [
    "df[df.flour>50]"
   ],
   "metadata": {
    "collapsed": false,
    "pycharm": {
     "name": "#%%\n"
    }
   }
  },
  {
   "cell_type": "markdown",
   "source": [
    "1 квартира является выбросом, она находится на 65-ом этаже.\n",
    "Убираем его:"
   ],
   "metadata": {
    "collapsed": false
   }
  },
  {
   "cell_type": "code",
   "execution_count": 39,
   "outputs": [],
   "source": [
    "df = df[df.flour<50]"
   ],
   "metadata": {
    "collapsed": false,
    "pycharm": {
     "name": "#%%\n"
    }
   }
  },
  {
   "cell_type": "markdown",
   "source": [
    "Итог:"
   ],
   "metadata": {
    "collapsed": false
   }
  },
  {
   "cell_type": "code",
   "execution_count": 40,
   "outputs": [
    {
     "data": {
      "text/plain": "<Figure size 640x480 with 1 Axes>",
      "image/png": "[encoded data removed]"
     },
     "metadata": {},
     "output_type": "display_data"
    },
    {
     "data": {
      "text/plain": "count    5765.000000\nmean       68.540597\nstd        38.740066\nmin        11.000000\n25%        42.000000\n50%        59.000000\n75%        81.300000\nmax       298.900000\nName: area, dtype: float64"
     },
     "execution_count": 40,
     "metadata": {},
     "output_type": "execute_result"
    }
   ],
   "source": [
    "plt.boxplot(df.flour)\n",
    "plt.show()\n",
    "df.area.describe()"
   ],
   "metadata": {
    "collapsed": false,
    "pycharm": {
     "name": "#%%\n"
    }
   }
  },
  {
   "cell_type": "markdown",
   "source": [
    "### 7.4 Стоимость"
   ],
   "metadata": {
    "collapsed": false
   }
  },
  {
   "cell_type": "code",
   "execution_count": 41,
   "outputs": [
    {
     "data": {
      "text/plain": "<Figure size 640x480 with 1 Axes>",
      "image/png": "[encoded data removed]"
     },
     "metadata": {},
     "output_type": "display_data"
    },
    {
     "data": {
      "text/plain": "count    5.765000e+03\nmean     3.678145e+07\nstd      3.650738e+07\nmin      4.000000e+06\n25%      2.000000e+07\n50%      2.700000e+07\n75%      4.000000e+07\nmax      6.000000e+08\nName: price, dtype: float64"
     },
     "execution_count": 41,
     "metadata": {},
     "output_type": "execute_result"
    }
   ],
   "source": [
    "plt.boxplot(df.price)\n",
    "plt.show()\n",
    "df.price.describe()"
   ],
   "metadata": {
    "collapsed": false,
    "pycharm": {
     "name": "#%%\n"
    }
   }
  },
  {
   "cell_type": "code",
   "execution_count": 42,
   "outputs": [
    {
     "data": {
      "text/plain": "      built_type  year_built  flour   area  condition  bathrooms  balcony  \\\n31             3        2019      3  260.0          4          1        1   \n76             3        2019      3  260.0          4          1        1   \n294            1        2018      3  260.0          4          3        2   \n521            3        2016      9  250.0          4          3        1   \n1739           1        2018      6  275.0          4          1        1   \n1887           1        2017      5  167.0          4          3        1   \n2299           1        2018      3  260.0          4          3        1   \n2401           3        2012     24  290.0          4          1        1   \n2464           3        2012     24  290.0          4          1        1   \n2574           1        2017      5  210.0          4          3        1   \n2600           1        2018      6  275.0          4          1        1   \n3134           3        2012     24  290.0          4          1        1   \n4029           3        2019      3  260.0          4          1        1   \n4268           3        2010     20  200.0          4          1        1   \n4326           1        2016      4  200.0          4          1        1   \n4332           3        2019      3  260.0          4          1        1   \n4477           0        2018      3  260.0          4          1        1   \n\n      exchange  furniture  ceil  ...      price  max_flours  has_intercom  \\\n31           0          1   3.3  ...  500000000           6             0   \n76           0          1   3.3  ...  499900000           6             0   \n294          0          1   3.3  ...  500000000           6             1   \n521          0          1   4.5  ...  345000000           9             0   \n1739         0          1   3.2  ...  320000000           7             0   \n1887         0          1   3.3  ...  310000000           6             0   \n2299         0          1   3.3  ...  499900000           6             0   \n2401         0          1   3.0  ...  600000000          26             0   \n2464         0          1   3.0  ...  600000000          26             0   \n2574         0          1   3.3  ...  400000000           6             0   \n2600         0          1   3.0  ...  320000000           7             0   \n3134         0          1   2.7  ...  600000000          26             0   \n4029         0          1   3.3  ...  420000000           6             0   \n4268         1          1   3.1  ...  380000000          20             0   \n4326         0          1   3.1  ...  350000000           6             0   \n4332         0          1   3.3  ...  450000000           6             0   \n4477         0          1   3.3  ...  499999000           7             0   \n\n      has_video_control  has_guard  has_alarm  has_video_intercom  \\\n31                    0          0          0                   0   \n76                    0          0          0                   0   \n294                   1          0          0                   1   \n521                   0          0          0                   0   \n1739                  0          0          0                   0   \n1887                  0          0          0                   0   \n2299                  0          0          0                   0   \n2401                  0          0          0                   0   \n2464                  0          0          0                   0   \n2574                  0          0          0                   0   \n2600                  0          0          0                   0   \n3134                  0          0          0                   0   \n4029                  0          0          0                   0   \n4268                  0          0          0                   0   \n4326                  0          0          0                   0   \n4332                  0          0          0                   0   \n4477                  0          0          0                   0   \n\n      has_concierge  has_bars  sqr_price  \n31                0         0    1923076  \n76                0         0    1922692  \n294               1         0    1923076  \n521               0         0    1380000  \n1739              0         0    1163636  \n1887              0         0    1856287  \n2299              0         0    1922692  \n2401              0         0    2068965  \n2464              0         0    2068965  \n2574              0         0    1904761  \n2600              0         0    1163636  \n3134              0         0    2068965  \n4029              0         0    1615384  \n4268              0         0    1900000  \n4326              0         0    1750000  \n4332              0         0    1730769  \n4477              0         0    1923073  \n\n[17 rows x 34 columns]",
      "text/html": "<div>\n<style scoped>\n    .dataframe tbody tr th:only-of-type {\n        vertical-align: middle;\n    }\n\n    .dataframe tbody tr th {\n        vertical-align: top;\n    }\n\n    .dataframe thead th {\n        text-align: right;\n    }\n</style>\n<table border=\"1\" class=\"dataframe\">\n  <thead>\n    <tr style=\"text-align: right;\">\n      <th></th>\n      <th>built_type</th>\n      <th>year_built</th>\n      <th>flour</th>\n      <th>area</th>\n      <th>condition</th>\n      <th>bathrooms</th>\n      <th>balcony</th>\n      <th>exchange</th>\n      <th>furniture</th>\n      <th>ceil</th>\n      <th>...</th>\n      <th>price</th>\n      <th>max_flours</th>\n      <th>has_intercom</th>\n      <th>has_video_control</th>\n      <th>has_guard</th>\n      <th>has_alarm</th>\n      <th>has_video_intercom</th>\n      <th>has_concierge</th>\n      <th>has_bars</th>\n      <th>sqr_price</th>\n    </tr>\n  </thead>\n  <tbody>\n    <tr>\n      <th>31</th>\n      <td>3</td>\n      <td>2019</td>\n      <td>3</td>\n      <td>260.0</td>\n      <td>4</td>\n      <td>1</td>\n      <td>1</td>\n      <td>0</td>\n      <td>1</td>\n      <td>3.3</td>\n      <td>...</td>\n      <td>500000000</td>\n      <td>6</td>\n      <td>0</td>\n      <td>0</td>\n      <td>0</td>\n      <td>0</td>\n      <td>0</td>\n      <td>0</td>\n      <td>0</td>\n      <td>1923076</td>\n    </tr>\n    <tr>\n      <th>76</th>\n      <td>3</td>\n      <td>2019</td>\n      <td>3</td>\n      <td>260.0</td>\n      <td>4</td>\n      <td>1</td>\n      <td>1</td>\n      <td>0</td>\n      <td>1</td>\n      <td>3.3</td>\n      <td>...</td>\n      <td>499900000</td>\n      <td>6</td>\n      <td>0</td>\n      <td>0</td>\n      <td>0</td>\n      <td>0</td>\n      <td>0</td>\n      <td>0</td>\n      <td>0</td>\n      <td>1922692</td>\n    </tr>\n    <tr>\n      <th>294</th>\n      <td>1</td>\n      <td>2018</td>\n      <td>3</td>\n      <td>260.0</td>\n      <td>4</td>\n      <td>3</td>\n      <td>2</td>\n      <td>0</td>\n      <td>1</td>\n      <td>3.3</td>\n      <td>...</td>\n      <td>500000000</td>\n      <td>6</td>\n      <td>1</td>\n      <td>1</td>\n      <td>0</td>\n      <td>0</td>\n      <td>1</td>\n      <td>1</td>\n      <td>0</td>\n      <td>1923076</td>\n    </tr>\n    <tr>\n      <th>521</th>\n      <td>3</td>\n      <td>2016</td>\n      <td>9</td>\n      <td>250.0</td>\n      <td>4</td>\n      <td>3</td>\n      <td>1</td>\n      <td>0</td>\n      <td>1</td>\n      <td>4.5</td>\n      <td>...</td>\n      <td>345000000</td>\n      <td>9</td>\n      <td>0</td>\n      <td>0</td>\n      <td>0</td>\n      <td>0</td>\n      <td>0</td>\n      <td>0</td>\n      <td>0</td>\n      <td>1380000</td>\n    </tr>\n    <tr>\n      <th>1739</th>\n      <td>1</td>\n      <td>2018</td>\n      <td>6</td>\n      <td>275.0</td>\n      <td>4</td>\n      <td>1</td>\n      <td>1</td>\n      <td>0</td>\n      <td>1</td>\n      <td>3.2</td>\n      <td>...</td>\n      <td>320000000</td>\n      <td>7</td>\n      <td>0</td>\n      <td>0</td>\n      <td>0</td>\n      <td>0</td>\n      <td>0</td>\n      <td>0</td>\n      <td>0</td>\n      <td>1163636</td>\n    </tr>\n    <tr>\n      <th>1887</th>\n      <td>1</td>\n      <td>2017</td>\n      <td>5</td>\n      <td>167.0</td>\n      <td>4</td>\n      <td>3</td>\n      <td>1</td>\n      <td>0</td>\n      <td>1</td>\n      <td>3.3</td>\n      <td>...</td>\n      <td>310000000</td>\n      <td>6</td>\n      <td>0</td>\n      <td>0</td>\n      <td>0</td>\n      <td>0</td>\n      <td>0</td>\n      <td>0</td>\n      <td>0</td>\n      <td>1856287</td>\n    </tr>\n    <tr>\n      <th>2299</th>\n      <td>1</td>\n      <td>2018</td>\n      <td>3</td>\n      <td>260.0</td>\n      <td>4</td>\n      <td>3</td>\n      <td>1</td>\n      <td>0</td>\n      <td>1</td>\n      <td>3.3</td>\n      <td>...</td>\n      <td>499900000</td>\n      <td>6</td>\n      <td>0</td>\n      <td>0</td>\n      <td>0</td>\n      <td>0</td>\n      <td>0</td>\n      <td>0</td>\n      <td>0</td>\n      <td>1922692</td>\n    </tr>\n    <tr>\n      <th>2401</th>\n      <td>3</td>\n      <td>2012</td>\n      <td>24</td>\n      <td>290.0</td>\n      <td>4</td>\n      <td>1</td>\n      <td>1</td>\n      <td>0</td>\n      <td>1</td>\n      <td>3.0</td>\n      <td>...</td>\n      <td>600000000</td>\n      <td>26</td>\n      <td>0</td>\n      <td>0</td>\n      <td>0</td>\n      <td>0</td>\n      <td>0</td>\n      <td>0</td>\n      <td>0</td>\n      <td>2068965</td>\n    </tr>\n    <tr>\n      <th>2464</th>\n      <td>3</td>\n      <td>2012</td>\n      <td>24</td>\n      <td>290.0</td>\n      <td>4</td>\n      <td>1</td>\n      <td>1</td>\n      <td>0</td>\n      <td>1</td>\n      <td>3.0</td>\n      <td>...</td>\n      <td>600000000</td>\n      <td>26</td>\n      <td>0</td>\n      <td>0</td>\n      <td>0</td>\n      <td>0</td>\n      <td>0</td>\n      <td>0</td>\n      <td>0</td>\n      <td>2068965</td>\n    </tr>\n    <tr>\n      <th>2574</th>\n      <td>1</td>\n      <td>2017</td>\n      <td>5</td>\n      <td>210.0</td>\n      <td>4</td>\n      <td>3</td>\n      <td>1</td>\n      <td>0</td>\n      <td>1</td>\n      <td>3.3</td>\n      <td>...</td>\n      <td>400000000</td>\n      <td>6</td>\n      <td>0</td>\n      <td>0</td>\n      <td>0</td>\n      <td>0</td>\n      <td>0</td>\n      <td>0</td>\n      <td>0</td>\n      <td>1904761</td>\n    </tr>\n    <tr>\n      <th>2600</th>\n      <td>1</td>\n      <td>2018</td>\n      <td>6</td>\n      <td>275.0</td>\n      <td>4</td>\n      <td>1</td>\n      <td>1</td>\n      <td>0</td>\n      <td>1</td>\n      <td>3.0</td>\n      <td>...</td>\n      <td>320000000</td>\n      <td>7</td>\n      <td>0</td>\n      <td>0</td>\n      <td>0</td>\n      <td>0</td>\n      <td>0</td>\n      <td>0</td>\n      <td>0</td>\n      <td>1163636</td>\n    </tr>\n    <tr>\n      <th>3134</th>\n      <td>3</td>\n      <td>2012</td>\n      <td>24</td>\n      <td>290.0</td>\n      <td>4</td>\n      <td>1</td>\n      <td>1</td>\n      <td>0</td>\n      <td>1</td>\n      <td>2.7</td>\n      <td>...</td>\n      <td>600000000</td>\n      <td>26</td>\n      <td>0</td>\n      <td>0</td>\n      <td>0</td>\n      <td>0</td>\n      <td>0</td>\n      <td>0</td>\n      <td>0</td>\n      <td>2068965</td>\n    </tr>\n    <tr>\n      <th>4029</th>\n      <td>3</td>\n      <td>2019</td>\n      <td>3</td>\n      <td>260.0</td>\n      <td>4</td>\n      <td>1</td>\n      <td>1</td>\n      <td>0</td>\n      <td>1</td>\n      <td>3.3</td>\n      <td>...</td>\n      <td>420000000</td>\n      <td>6</td>\n      <td>0</td>\n      <td>0</td>\n      <td>0</td>\n      <td>0</td>\n      <td>0</td>\n      <td>0</td>\n      <td>0</td>\n      <td>1615384</td>\n    </tr>\n    <tr>\n      <th>4268</th>\n      <td>3</td>\n      <td>2010</td>\n      <td>20</td>\n      <td>200.0</td>\n      <td>4</td>\n      <td>1</td>\n      <td>1</td>\n      <td>1</td>\n      <td>1</td>\n      <td>3.1</td>\n      <td>...</td>\n      <td>380000000</td>\n      <td>20</td>\n      <td>0</td>\n      <td>0</td>\n      <td>0</td>\n      <td>0</td>\n      <td>0</td>\n      <td>0</td>\n      <td>0</td>\n      <td>1900000</td>\n    </tr>\n    <tr>\n      <th>4326</th>\n      <td>1</td>\n      <td>2016</td>\n      <td>4</td>\n      <td>200.0</td>\n      <td>4</td>\n      <td>1</td>\n      <td>1</td>\n      <td>0</td>\n      <td>1</td>\n      <td>3.1</td>\n      <td>...</td>\n      <td>350000000</td>\n      <td>6</td>\n      <td>0</td>\n      <td>0</td>\n      <td>0</td>\n      <td>0</td>\n      <td>0</td>\n      <td>0</td>\n      <td>0</td>\n      <td>1750000</td>\n    </tr>\n    <tr>\n      <th>4332</th>\n      <td>3</td>\n      <td>2019</td>\n      <td>3</td>\n      <td>260.0</td>\n      <td>4</td>\n      <td>1</td>\n      <td>1</td>\n      <td>0</td>\n      <td>1</td>\n      <td>3.3</td>\n      <td>...</td>\n      <td>450000000</td>\n      <td>6</td>\n      <td>0</td>\n      <td>0</td>\n      <td>0</td>\n      <td>0</td>\n      <td>0</td>\n      <td>0</td>\n      <td>0</td>\n      <td>1730769</td>\n    </tr>\n    <tr>\n      <th>4477</th>\n      <td>0</td>\n      <td>2018</td>\n      <td>3</td>\n      <td>260.0</td>\n      <td>4</td>\n      <td>1</td>\n      <td>1</td>\n      <td>0</td>\n      <td>1</td>\n      <td>3.3</td>\n      <td>...</td>\n      <td>499999000</td>\n      <td>7</td>\n      <td>0</td>\n      <td>0</td>\n      <td>0</td>\n      <td>0</td>\n      <td>0</td>\n      <td>0</td>\n      <td>0</td>\n      <td>1923073</td>\n    </tr>\n  </tbody>\n</table>\n<p>17 rows × 34 columns</p>\n</div>"
     },
     "execution_count": 42,
     "metadata": {},
     "output_type": "execute_result"
    }
   ],
   "source": [
    "df[df.price>300000000]"
   ],
   "metadata": {
    "collapsed": false,
    "pycharm": {
     "name": "#%%\n"
    }
   }
  },
  {
   "cell_type": "markdown",
   "source": [
    "17 квартир являются выбросами, со стоимостью более чем 300 млн тг.\n",
    "Убираем их:"
   ],
   "metadata": {
    "collapsed": false
   }
  },
  {
   "cell_type": "code",
   "execution_count": 43,
   "outputs": [],
   "source": [
    "df = df[df.price<300000000]"
   ],
   "metadata": {
    "collapsed": false,
    "pycharm": {
     "name": "#%%\n"
    }
   }
  },
  {
   "cell_type": "markdown",
   "source": [
    "Итог:"
   ],
   "metadata": {
    "collapsed": false
   }
  },
  {
   "cell_type": "code",
   "execution_count": 44,
   "outputs": [
    {
     "data": {
      "text/plain": "<Figure size 640x480 with 1 Axes>",
      "image/png": "[encoded data removed]"
     },
     "metadata": {},
     "output_type": "display_data"
    }
   ],
   "source": [
    "plt.boxplot(df.price)\n",
    "plt.show()\n"
   ],
   "metadata": {
    "collapsed": false,
    "pycharm": {
     "name": "#%%\n"
    }
   }
  },
  {
   "cell_type": "markdown",
   "source": [
    "### 8. Матрица корреляций"
   ],
   "metadata": {
    "collapsed": false
   }
  },
  {
   "cell_type": "code",
   "execution_count": 45,
   "outputs": [
    {
     "data": {
      "text/plain": "<Figure size 480x480 with 1 Axes>",
      "image/png": "[encoded data removed]"
     },
     "metadata": {},
     "output_type": "display_data"
    }
   ],
   "source": [
    "plt.matshow(df.corr())\n",
    "plt.show()"
   ],
   "metadata": {
    "collapsed": false,
    "pycharm": {
     "name": "#%%\n"
    }
   }
  },
  {
   "cell_type": "code",
   "execution_count": 46,
   "outputs": [
    {
     "data": {
      "text/plain": "price              area                 0.860583\narea               price                0.860583\n                   rooms                0.852933\nrooms              area                 0.852933\nhas_video_control  has_intercom         0.744444\nhas_intercom       has_video_control    0.744444\nrooms              price                0.700703\nprice              rooms                0.700703\nsqr_price          price                0.658449\nprice              sqr_price            0.658449\n                   residance            0.620029\nresidance          price                0.620029\nmax_flours         flour                0.614413\nflour              max_flours           0.614413\nresidance          area                 0.559107\narea               residance            0.559107\ndtype: float64"
     },
     "execution_count": 46,
     "metadata": {},
     "output_type": "execute_result"
    }
   ],
   "source": [
    "df.corr().abs().unstack().sort_values(ascending=False)[34:50]"
   ],
   "metadata": {
    "collapsed": false,
    "pycharm": {
     "name": "#%%\n"
    }
   }
  },
  {
   "cell_type": "markdown",
   "source": [
    "### 9. Распределение категорий"
   ],
   "metadata": {
    "collapsed": false,
    "pycharm": {
     "name": "#%% md\n"
    }
   }
  },
  {
   "cell_type": "code",
   "execution_count": 47,
   "outputs": [
    {
     "name": "stderr",
     "output_type": "stream",
     "text": [
      "C:\\Users\\Khan\\AppData\\Local\\Temp\\ipykernel_2244\\3190257392.py:6: UserWarning: Matplotlib is currently using module://matplotlib_inline.backend_inline, which is a non-GUI backend, so cannot show the figure.\n",
      "  fig.show()\n"
     ]
    },
    {
     "data": {
      "text/plain": "<Figure size 800x1600 with 24 Axes>",
      "image/png": "[encoded data removed]"
     },
     "metadata": {},
     "output_type": "display_data"
    }
   ],
   "source": [
    "categorical_features = [col for col in df if len(df[col].unique())<10]\n",
    "fig, ax = plt.subplots(nrows=8, ncols=3, figsize=(8, 16))\n",
    "fig.tight_layout()\n",
    "for i, categorical_feature in enumerate(df[categorical_features]):\n",
    "    df[categorical_feature].value_counts().plot(kind=\"bar\", ax=ax[i//3][i%3]).set_title(categorical_feature)\n",
    "fig.show()"
   ],
   "metadata": {
    "collapsed": false,
    "pycharm": {
     "name": "#%%\n"
    }
   }
  },
  {
   "cell_type": "code",
   "execution_count": 48,
   "outputs": [
    {
     "name": "stdout",
     "output_type": "stream",
     "text": [
      "0    5724\n",
      "1      24\n",
      "Name: ex_dormetory, dtype: int64\n"
     ]
    },
    {
     "data": {
      "text/plain": "1    5747\n0       1\nName: balcony_glass, dtype: int64"
     },
     "execution_count": 48,
     "metadata": {},
     "output_type": "execute_result"
    }
   ],
   "source": [
    "print(df.ex_dormetory.value_counts())\n",
    "df.balcony_glass.value_counts()"
   ],
   "metadata": {
    "collapsed": false,
    "pycharm": {
     "name": "#%%\n"
    }
   }
  },
  {
   "cell_type": "markdown",
   "source": [
    "Эти столбцы не имеют статической значимости, удаляем их:"
   ],
   "metadata": {
    "collapsed": false,
    "pycharm": {
     "name": "#%% md\n"
    }
   }
  },
  {
   "cell_type": "code",
   "execution_count": 49,
   "outputs": [],
   "source": [
    "df = df.drop('ex_dormetory', axis=1)\n",
    "df = df.drop('balcony_glass', axis=1)\n"
   ],
   "metadata": {
    "collapsed": false,
    "pycharm": {
     "name": "#%%\n"
    }
   }
  },
  {
   "cell_type": "markdown",
   "source": [
    "# IV. Гипотезы\n",
    "\n",
    "## 1. Монолитные дома стоят больше панельных"
   ],
   "metadata": {
    "collapsed": false,
    "pycharm": {
     "name": "#%% md\n"
    }
   }
  },
  {
   "cell_type": "code",
   "execution_count": 50,
   "outputs": [
    {
     "data": {
      "text/plain": "<AxesSubplot: xlabel='built_type'>"
     },
     "execution_count": 50,
     "metadata": {},
     "output_type": "execute_result"
    },
    {
     "data": {
      "text/plain": "<Figure size 640x480 with 1 Axes>",
      "image/png": "[encoded data removed]"
     },
     "metadata": {},
     "output_type": "display_data"
    }
   ],
   "source": [
    "sqr_price_by_built_type = df.sqr_price.groupby(df['built_type']).mean()\n",
    "sqr_price_by_built_type.plot(kind='bar')"
   ],
   "metadata": {
    "collapsed": false,
    "pycharm": {
     "name": "#%%\n"
    }
   }
  },
  {
   "cell_type": "markdown",
   "source": [
    "'панельный': 0, 'кирпичный': 1, 'иное': 2, 'монолитный': 3"
   ],
   "metadata": {
    "collapsed": false
   }
  },
  {
   "cell_type": "code",
   "execution_count": 51,
   "outputs": [
    {
     "data": {
      "text/plain": "built_type\n0     416610.43771\n1    480321.642541\n2    499410.038462\n3    530654.116783\nName: sqr_price, dtype: Float64"
     },
     "execution_count": 51,
     "metadata": {},
     "output_type": "execute_result"
    }
   ],
   "source": [
    "sqr_price_by_built_type"
   ],
   "metadata": {
    "collapsed": false,
    "pycharm": {
     "name": "#%%\n"
    }
   }
  },
  {
   "cell_type": "code",
   "execution_count": 52,
   "outputs": [
    {
     "data": {
      "text/plain": "114043.67907277914"
     },
     "execution_count": 52,
     "metadata": {},
     "output_type": "execute_result"
    }
   ],
   "source": [
    "sqr_price_by_built_type.values[-1]-sqr_price_by_built_type.values[0]"
   ],
   "metadata": {
    "collapsed": false,
    "pycharm": {
     "name": "#%%\n"
    }
   }
  },
  {
   "cell_type": "markdown",
   "source": [
    "Результат: Монолитные дома в среднем за кв. м дороже панельных домов\n",
    "на 114043 тысяч тенге\n"
   ],
   "metadata": {
    "collapsed": false,
    "pycharm": {
     "name": "#%% md\n"
    }
   }
  },
  {
   "cell_type": "markdown",
   "source": [
    "## 2. Рост средней цены за кв.м в зависимости от года постройки"
   ],
   "metadata": {
    "collapsed": false,
    "pycharm": {
     "name": "#%% md\n"
    }
   }
  },
  {
   "cell_type": "code",
   "execution_count": 53,
   "outputs": [],
   "source": [
    "mean_price_by_year = df['sqr_price'].groupby(df['year_built']).mean()\n",
    "X,Y = mean_price_by_year.keys(), mean_price_by_year.values\n"
   ],
   "metadata": {
    "collapsed": false,
    "pycharm": {
     "name": "#%%\n"
    }
   }
  },
  {
   "cell_type": "code",
   "execution_count": 54,
   "outputs": [
    {
     "data": {
      "text/plain": "<Figure size 640x480 with 1 Axes>",
      "image/png": "[encoded data removed]"
     },
     "metadata": {},
     "output_type": "display_data"
    }
   ],
   "source": [
    "plt.scatter(X, Y, s=5)\n",
    "plt.xlabel('Год постройки ')\n",
    "plt.xlim(1950, 2022)\n",
    "plt.ylabel('Средняя цена за кв. м ( тг ) ')\n",
    "plt.ylim(300000, 600000)\n",
    "plt.show()"
   ],
   "metadata": {
    "collapsed": false,
    "pycharm": {
     "name": "#%%\n"
    }
   }
  },
  {
   "cell_type": "code",
   "execution_count": 55,
   "outputs": [
    {
     "data": {
      "text/plain": "0.0029650359143772605"
     },
     "execution_count": 55,
     "metadata": {},
     "output_type": "execute_result"
    }
   ],
   "source": [
    "mean_price_by_year.pct_change().mean()\n"
   ],
   "metadata": {
    "collapsed": false,
    "pycharm": {
     "name": "#%%\n"
    }
   }
  },
  {
   "cell_type": "markdown",
   "source": [
    "Результат: Средняя цена за кв.м дома повышается с понижением его возраста.\n",
    "На 0.296% с каждым годом.\n",
    "\n",
    "## 3. Компании и специалисты имеют большую стоимость"
   ],
   "metadata": {
    "collapsed": false,
    "pycharm": {
     "name": "#%% md\n"
    }
   }
  },
  {
   "cell_type": "code",
   "execution_count": 56,
   "outputs": [
    {
     "data": {
      "text/plain": "<AxesSubplot: xlabel='userType'>"
     },
     "execution_count": 56,
     "metadata": {},
     "output_type": "execute_result"
    },
    {
     "data": {
      "text/plain": "<Figure size 640x480 with 1 Axes>",
      "image/png": "[encoded data removed]"
     },
     "metadata": {},
     "output_type": "display_data"
    }
   ],
   "source": [
    "price_by_owner = df.price.groupby(df['userType']).mean()\n",
    "price_by_owner.plot(kind='bar')"
   ],
   "metadata": {
    "collapsed": false,
    "pycharm": {
     "name": "#%%\n"
    }
   }
  },
  {
   "cell_type": "markdown",
   "source": [
    "'Владелец': 0, 'Специалист': 1, 'Комлпекс': 2, 'Компания': 3"
   ],
   "metadata": {
    "collapsed": false,
    "pycharm": {
     "name": "#%% md\n"
    }
   }
  },
  {
   "cell_type": "code",
   "execution_count": 57,
   "outputs": [
    {
     "data": {
      "text/plain": "userType\n0    3.327360e+07\n1    3.633787e+07\n2    3.891233e+07\n3    4.440065e+07\nName: price, dtype: float64"
     },
     "execution_count": 57,
     "metadata": {},
     "output_type": "execute_result"
    }
   ],
   "source": [
    "price_by_owner"
   ],
   "metadata": {
    "collapsed": false,
    "pycharm": {
     "name": "#%%\n"
    }
   }
  },
  {
   "cell_type": "code",
   "execution_count": 58,
   "outputs": [
    {
     "data": {
      "text/plain": "11127051.004409272"
     },
     "execution_count": 58,
     "metadata": {},
     "output_type": "execute_result"
    }
   ],
   "source": [
    "price_by_owner.values[-1]-price_by_owner.values[0]"
   ],
   "metadata": {
    "collapsed": false,
    "pycharm": {
     "name": "#%%\n"
    }
   }
  },
  {
   "cell_type": "markdown",
   "source": [
    "Результат: Компании продают дома, в среднем на 11 млн дороже,\n",
    "чем владельцы"
   ],
   "metadata": {
    "collapsed": false
   }
  },
  {
   "cell_type": "markdown",
   "source": [
    "# V. Модель\n",
    "\n",
    "Цель: используя все данные, угадать цену объявления.\n",
    "\n",
    "## 1. Входные и выходные данные\n",
    "Так как мы высчитали sqr_price напрямую из price, использовать его в модели мы не будем."
   ],
   "metadata": {
    "collapsed": false,
    "pycharm": {
     "name": "#%% md\n"
    }
   }
  },
  {
   "cell_type": "code",
   "execution_count": 59,
   "outputs": [],
   "source": [
    "X = df[[col for col in df if col not in ('price', 'sqr_price')]].values\n",
    "y = df[['price']].values"
   ],
   "metadata": {
    "collapsed": false,
    "pycharm": {
     "name": "#%%\n"
    }
   }
  },
  {
   "cell_type": "markdown",
   "source": [
    "## 2. Предварительное разделение на тренировочные/тестовые данные"
   ],
   "metadata": {
    "collapsed": false,
    "pycharm": {
     "name": "#%% md\n"
    }
   }
  },
  {
   "cell_type": "code",
   "execution_count": 60,
   "outputs": [],
   "source": [
    "X_train, X_test, y_train, y_test = train_test_split(X, y, test_size=0.2, random_state=0)"
   ],
   "metadata": {
    "collapsed": false,
    "pycharm": {
     "name": "#%%\n"
    }
   }
  },
  {
   "cell_type": "markdown",
   "source": [
    "## 3. Стандартизация"
   ],
   "metadata": {
    "collapsed": false,
    "pycharm": {
     "name": "#%% md\n"
    }
   }
  },
  {
   "cell_type": "code",
   "execution_count": 61,
   "outputs": [],
   "source": [
    "scaler = StandardScaler()\n",
    "X_train = scaler.fit_transform(X_train)\n",
    "X_test = scaler.fit_transform(X_test)"
   ],
   "metadata": {
    "collapsed": false,
    "pycharm": {
     "name": "#%%\n"
    }
   }
  },
  {
   "cell_type": "markdown",
   "source": [
    "## 4. Модели"
   ],
   "metadata": {
    "collapsed": false,
    "pycharm": {
     "name": "#%% md\n"
    }
   }
  },
  {
   "cell_type": "code",
   "execution_count": 62,
   "outputs": [],
   "source": [
    "model_scores = {}"
   ],
   "metadata": {
    "collapsed": false,
    "pycharm": {
     "name": "#%%\n"
    }
   }
  },
  {
   "cell_type": "markdown",
   "source": [
    "### 4.1 Линейная регрессия"
   ],
   "metadata": {
    "collapsed": false,
    "pycharm": {
     "name": "#%% md\n"
    }
   }
  },
  {
   "cell_type": "code",
   "execution_count": 63,
   "outputs": [
    {
     "name": "stdout",
     "output_type": "stream",
     "text": [
      "0.7749395657751281\n"
     ]
    }
   ],
   "source": [
    "reg = LinearRegression()\n",
    "reg.fit(X_train, y_train)\n",
    "score = reg.score(X_test, y_test)\n",
    "model_scores['Линейная регрессия'] = score\n",
    "print(score)"
   ],
   "metadata": {
    "collapsed": false,
    "pycharm": {
     "name": "#%%\n"
    }
   }
  },
  {
   "cell_type": "markdown",
   "source": [
    "### 4.2 Лассо"
   ],
   "metadata": {
    "collapsed": false
   }
  },
  {
   "cell_type": "code",
   "execution_count": 64,
   "outputs": [
    {
     "data": {
      "text/plain": "{'alpha': 1000000.0, 'fit_intercept': True}"
     },
     "execution_count": 64,
     "metadata": {},
     "output_type": "execute_result"
    }
   ],
   "source": [
    "clf = GridSearchCV(\n",
    "    Lasso(),\n",
    "    param_grid = {\n",
    "        'alpha': np.logspace(1, 8, 50),\n",
    "        'fit_intercept': [True, False],\n",
    "    },\n",
    "    scoring='neg_mean_absolute_error',\n",
    "    cv=5,\n",
    "    n_jobs=-1\n",
    ")\n",
    "clf.fit(X_train, y_train)\n",
    "clf.best_params_\n"
   ],
   "metadata": {
    "collapsed": false,
    "pycharm": {
     "name": "#%%\n"
    }
   }
  },
  {
   "cell_type": "code",
   "execution_count": 65,
   "outputs": [
    {
     "name": "stdout",
     "output_type": "stream",
     "text": [
      "0.7754341916111884\n"
     ]
    }
   ],
   "source": [
    "reg = Lasso(**clf.best_params_)\n",
    "reg.fit(X_train, y_train)\n",
    "score = reg.score(X_test, y_test)\n",
    "model_scores['Лассо'] = score\n",
    "print(score)"
   ],
   "metadata": {
    "collapsed": false,
    "pycharm": {
     "name": "#%%\n"
    }
   }
  },
  {
   "cell_type": "markdown",
   "source": [
    "### 4.3 Ридж"
   ],
   "metadata": {
    "collapsed": false
   }
  },
  {
   "cell_type": "code",
   "execution_count": 66,
   "outputs": [
    {
     "data": {
      "text/plain": "{'alpha': 100.0, 'fit_intercept': True}"
     },
     "execution_count": 66,
     "metadata": {},
     "output_type": "execute_result"
    }
   ],
   "source": [
    "clf = GridSearchCV(\n",
    "    Ridge(),\n",
    "    param_grid = {\n",
    "        'fit_intercept': [True, False],\n",
    "        'alpha': np.logspace(1, 8, 50)\n",
    "    },\n",
    "    scoring='neg_mean_absolute_error',\n",
    "    cv=5,\n",
    "    n_jobs=-1\n",
    ")\n",
    "clf.fit(X_train, y_train)\n",
    "clf.best_params_\n"
   ],
   "metadata": {
    "collapsed": false,
    "pycharm": {
     "name": "#%%\n"
    }
   }
  },
  {
   "cell_type": "code",
   "execution_count": 67,
   "outputs": [
    {
     "name": "stdout",
     "output_type": "stream",
     "text": [
      "0.7810722356659234\n"
     ]
    }
   ],
   "source": [
    "reg = Ridge(**clf.best_params_)\n",
    "reg.fit(X_train, y_train)\n",
    "score = reg.score(X_test, y_test)\n",
    "model_scores['Ридж'] = score\n",
    "print(score)\n"
   ],
   "metadata": {
    "collapsed": false,
    "pycharm": {
     "name": "#%%\n"
    }
   }
  },
  {
   "cell_type": "markdown",
   "source": [
    "### 4.4 ЭластикНэт"
   ],
   "metadata": {
    "collapsed": false,
    "pycharm": {
     "name": "#%% md\n"
    }
   }
  },
  {
   "cell_type": "code",
   "execution_count": null,
   "outputs": [],
   "source": [
    "clf = GridSearchCV(\n",
    "    ElasticNet(),\n",
    "    param_grid = {\n",
    "        'fit_intercept': [True, False],\n",
    "        'alpha': np.logspace(1, 8, 50),\n",
    "        'l1_ratio': np.arange(0.0, 1.1, 0.1),\n",
    "        'selection': ['cyclic', 'random']\n",
    "    },\n",
    "    scoring='neg_mean_absolute_error',\n",
    "    cv=5,\n",
    "    n_jobs=-1\n",
    ")\n",
    "clf.fit(X_train, y_train)\n",
    "clf.best_params_\n"
   ],
   "metadata": {
    "collapsed": false,
    "pycharm": {
     "name": "#%%\n",
     "is_executing": true
    }
   }
  },
  {
   "cell_type": "code",
   "execution_count": null,
   "outputs": [],
   "source": [
    "reg = ElasticNet(**clf.best_params_)\n",
    "reg.fit(X_train, y_train)\n",
    "score = reg.score(X_test, y_test)\n",
    "model_scores['ЭластикНэт'] = score\n",
    "print(score)"
   ],
   "metadata": {
    "collapsed": false,
    "pycharm": {
     "name": "#%%\n",
     "is_executing": true
    }
   }
  },
  {
   "cell_type": "markdown",
   "source": [
    "### Итог"
   ],
   "metadata": {
    "collapsed": false,
    "pycharm": {
     "name": "#%% md\n"
    }
   }
  },
  {
   "cell_type": "code",
   "execution_count": null,
   "outputs": [],
   "source": [
    "for k,v in model_scores.items():\n",
    "    print(f\"{k}: {v:.4f}\")"
   ],
   "metadata": {
    "collapsed": false,
    "pycharm": {
     "name": "#%%\n",
     "is_executing": true
    }
   }
  },
  {
   "cell_type": "markdown",
   "source": [
    "# VI. Важность столбцов\n",
    "\n",
    "## 1. Коэффициенты\n",
    "\n",
    "Достаем все не нулевые коэффициенты столбцов и сортируем их"
   ],
   "metadata": {
    "collapsed": false
   }
  },
  {
   "cell_type": "code",
   "execution_count": null,
   "outputs": [],
   "source": [
    "fields = {\n",
    "    field: val for field,val in zip(\n",
    "        df[[col for col in df if col not in ('price', 'sqr_price')]],\n",
    "        reg.coef_\n",
    "    ) if abs(val) > 1000\n",
    "}\n",
    "fields = dict(sorted(fields.items(), key=lambda item: item[1]))\n",
    "fields"
   ],
   "metadata": {
    "collapsed": false,
    "pycharm": {
     "name": "#%%\n",
     "is_executing": true
    }
   }
  },
  {
   "cell_type": "code",
   "execution_count": null,
   "outputs": [],
   "source": [
    "plt.rcParams[\"figure.figsize\"] = (20,15)\n",
    "plt.bar(fields.keys(), fields.values())\n",
    "plt.show()"
   ],
   "metadata": {
    "collapsed": false,
    "pycharm": {
     "name": "#%%\n",
     "is_executing": true
    }
   }
  },
  {
   "cell_type": "markdown",
   "source": [
    "## Итог\n",
    "\n",
    "Самым важным столбцом является площадь. За ним жилой комплекс и высота потолков.\n",
    "\n",
    "# VII. Выводы\n",
    "\n",
    "Мы провели анализ объявлений на сайте krisha.kz.\n",
    "Произвели множество действий для преобразования, очистки, стандартизации\n",
    "входных данных. Сделали статистический анализ и проверили наши гипотезы.\n",
    "Используя разные типы линейных регрессий, пытались угадать цену.\n",
    "\n",
    "\n",
    "По итогу, лучшая модель (Ридж) показала результат в 0.78.\n",
    "\n",
    "\n",
    "Самыми важными столбцами для регрессии оказались площадь и жилой комплекс.\n",
    "\n"
   ],
   "metadata": {
    "collapsed": false,
    "pycharm": {
     "name": "#%% md\n"
    }
   }
  }
 ],
 "metadata": {
  "kernelspec": {
   "display_name": "Python 3 (ipykernel)",
   "language": "python",
   "name": "python3"
  },
  "language_info": {
   "codemirror_mode": {
    "name": "ipython",
    "version": 3
   },
   "file_extension": ".py",
   "mimetype": "text/x-python",
   "name": "python",
   "nbconvert_exporter": "python",
   "pygments_lexer": "ipython3",
   "version": "3.10.7"
  }
 },
 "nbformat": 4,
 "nbformat_minor": 1
}